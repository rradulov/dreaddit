{
 "cells": [
  {
   "cell_type": "code",
   "execution_count": 1,
   "id": "528c2c1f",
   "metadata": {},
   "outputs": [],
   "source": [
    "import pandas as pd\n",
    "import nltk\n",
    "import re"
   ]
  },
  {
   "cell_type": "code",
   "execution_count": 1,
   "id": "547e1cad",
   "metadata": {},
   "outputs": [
    {
     "name": "stdout",
     "output_type": "stream",
     "text": [
      "Requirement already satisfied: spacy in /Users/jackmorrissey/.pyenv/versions/3.8.12/envs/dreaddit/lib/python3.8/site-packages (3.2.2)\n",
      "Requirement already satisfied: cymem<2.1.0,>=2.0.2 in /Users/jackmorrissey/.pyenv/versions/3.8.12/envs/dreaddit/lib/python3.8/site-packages (from spacy) (2.0.6)\n",
      "Requirement already satisfied: srsly<3.0.0,>=2.4.1 in /Users/jackmorrissey/.pyenv/versions/3.8.12/envs/dreaddit/lib/python3.8/site-packages (from spacy) (2.4.2)\n",
      "Requirement already satisfied: pathy>=0.3.5 in /Users/jackmorrissey/.pyenv/versions/3.8.12/envs/dreaddit/lib/python3.8/site-packages (from spacy) (0.6.1)\n",
      "Requirement already satisfied: packaging>=20.0 in /Users/jackmorrissey/.pyenv/versions/3.8.12/envs/dreaddit/lib/python3.8/site-packages (from spacy) (21.3)\n",
      "Requirement already satisfied: setuptools in /Users/jackmorrissey/.pyenv/versions/3.8.12/envs/dreaddit/lib/python3.8/site-packages (from spacy) (56.0.0)\n",
      "Requirement already satisfied: blis<0.8.0,>=0.4.0 in /Users/jackmorrissey/.pyenv/versions/3.8.12/envs/dreaddit/lib/python3.8/site-packages (from spacy) (0.7.6)\n",
      "Requirement already satisfied: typer<0.5.0,>=0.3.0 in /Users/jackmorrissey/.pyenv/versions/3.8.12/envs/dreaddit/lib/python3.8/site-packages (from spacy) (0.4.0)\n",
      "Requirement already satisfied: spacy-legacy<3.1.0,>=3.0.8 in /Users/jackmorrissey/.pyenv/versions/3.8.12/envs/dreaddit/lib/python3.8/site-packages (from spacy) (3.0.8)\n",
      "Requirement already satisfied: spacy-loggers<2.0.0,>=1.0.0 in /Users/jackmorrissey/.pyenv/versions/3.8.12/envs/dreaddit/lib/python3.8/site-packages (from spacy) (1.0.1)\n",
      "Requirement already satisfied: langcodes<4.0.0,>=3.2.0 in /Users/jackmorrissey/.pyenv/versions/3.8.12/envs/dreaddit/lib/python3.8/site-packages (from spacy) (3.3.0)\n",
      "Requirement already satisfied: catalogue<2.1.0,>=2.0.6 in /Users/jackmorrissey/.pyenv/versions/3.8.12/envs/dreaddit/lib/python3.8/site-packages (from spacy) (2.0.6)\n",
      "Requirement already satisfied: jinja2 in /Users/jackmorrissey/.pyenv/versions/3.8.12/envs/dreaddit/lib/python3.8/site-packages (from spacy) (3.0.3)\n",
      "Requirement already satisfied: murmurhash<1.1.0,>=0.28.0 in /Users/jackmorrissey/.pyenv/versions/3.8.12/envs/dreaddit/lib/python3.8/site-packages (from spacy) (1.0.6)\n",
      "Requirement already satisfied: preshed<3.1.0,>=3.0.2 in /Users/jackmorrissey/.pyenv/versions/3.8.12/envs/dreaddit/lib/python3.8/site-packages (from spacy) (3.0.6)\n",
      "Requirement already satisfied: thinc<8.1.0,>=8.0.12 in /Users/jackmorrissey/.pyenv/versions/3.8.12/envs/dreaddit/lib/python3.8/site-packages (from spacy) (8.0.13)\n",
      "Requirement already satisfied: tqdm<5.0.0,>=4.38.0 in /Users/jackmorrissey/.pyenv/versions/3.8.12/envs/dreaddit/lib/python3.8/site-packages (from spacy) (4.62.3)\n",
      "Requirement already satisfied: wasabi<1.1.0,>=0.8.1 in /Users/jackmorrissey/.pyenv/versions/3.8.12/envs/dreaddit/lib/python3.8/site-packages (from spacy) (0.9.0)\n",
      "Requirement already satisfied: requests<3.0.0,>=2.13.0 in /Users/jackmorrissey/.pyenv/versions/3.8.12/envs/dreaddit/lib/python3.8/site-packages (from spacy) (2.27.1)\n",
      "Requirement already satisfied: numpy>=1.15.0 in /Users/jackmorrissey/.pyenv/versions/3.8.12/envs/dreaddit/lib/python3.8/site-packages (from spacy) (1.22.2)\n",
      "Requirement already satisfied: pydantic!=1.8,!=1.8.1,<1.9.0,>=1.7.4 in /Users/jackmorrissey/.pyenv/versions/3.8.12/envs/dreaddit/lib/python3.8/site-packages (from spacy) (1.8.2)\n",
      "Requirement already satisfied: pyparsing!=3.0.5,>=2.0.2 in /Users/jackmorrissey/.pyenv/versions/3.8.12/envs/dreaddit/lib/python3.8/site-packages (from packaging>=20.0->spacy) (3.0.7)\n",
      "Requirement already satisfied: smart-open<6.0.0,>=5.0.0 in /Users/jackmorrissey/.pyenv/versions/3.8.12/envs/dreaddit/lib/python3.8/site-packages (from pathy>=0.3.5->spacy) (5.2.1)\n",
      "Requirement already satisfied: typing-extensions>=3.7.4.3 in /Users/jackmorrissey/.pyenv/versions/3.8.12/envs/dreaddit/lib/python3.8/site-packages (from pydantic!=1.8,!=1.8.1,<1.9.0,>=1.7.4->spacy) (4.1.1)\n",
      "Requirement already satisfied: charset-normalizer~=2.0.0 in /Users/jackmorrissey/.pyenv/versions/3.8.12/envs/dreaddit/lib/python3.8/site-packages (from requests<3.0.0,>=2.13.0->spacy) (2.0.12)\n",
      "Requirement already satisfied: idna<4,>=2.5 in /Users/jackmorrissey/.pyenv/versions/3.8.12/envs/dreaddit/lib/python3.8/site-packages (from requests<3.0.0,>=2.13.0->spacy) (3.3)\n",
      "Requirement already satisfied: certifi>=2017.4.17 in /Users/jackmorrissey/.pyenv/versions/3.8.12/envs/dreaddit/lib/python3.8/site-packages (from requests<3.0.0,>=2.13.0->spacy) (2021.10.8)\n",
      "Requirement already satisfied: urllib3<1.27,>=1.21.1 in /Users/jackmorrissey/.pyenv/versions/3.8.12/envs/dreaddit/lib/python3.8/site-packages (from requests<3.0.0,>=2.13.0->spacy) (1.26.8)\n",
      "Requirement already satisfied: click<9.0.0,>=7.1.1 in /Users/jackmorrissey/.pyenv/versions/3.8.12/envs/dreaddit/lib/python3.8/site-packages (from typer<0.5.0,>=0.3.0->spacy) (8.0.3)\n",
      "Requirement already satisfied: MarkupSafe>=2.0 in /Users/jackmorrissey/.pyenv/versions/3.8.12/envs/dreaddit/lib/python3.8/site-packages (from jinja2->spacy) (2.0.1)\n"
     ]
    }
   ],
   "source": [
    "!pip install spacy"
   ]
  },
  {
   "cell_type": "code",
   "execution_count": null,
   "id": "bcab25de",
   "metadata": {},
   "outputs": [],
   "source": [
    "import spacy"
   ]
  },
  {
   "cell_type": "code",
   "execution_count": null,
   "id": "df8e26aa",
   "metadata": {},
   "outputs": [],
   "source": []
  }
 ],
 "metadata": {
  "kernelspec": {
   "display_name": "Python 3 (ipykernel)",
   "language": "python",
   "name": "python3"
  },
  "language_info": {
   "codemirror_mode": {
    "name": "ipython",
    "version": 3
   },
   "file_extension": ".py",
   "mimetype": "text/x-python",
   "name": "python",
   "nbconvert_exporter": "python",
   "pygments_lexer": "ipython3",
   "version": "3.8.12"
  }
 },
 "nbformat": 4,
 "nbformat_minor": 5
}
