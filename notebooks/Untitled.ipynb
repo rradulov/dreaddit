{
 "cells": [
  {
   "cell_type": "code",
   "execution_count": 1,
   "id": "b066a1bf",
   "metadata": {},
   "outputs": [],
   "source": [
    "%load_ext autoreload\n",
    "%autoreload 2\n",
    "import numpy as np\n",
    "import pandas as pd\n",
    "\n",
    "from trainer import Trainer\n",
    "import data\n",
    "import utils\n",
    "from sklearn.svm import SVC\n",
    "from sklearn.pipeline import Pipeline\n",
    "\n",
    "from sklearn.svm import SVC\n",
    "from sklearn.ensemble import RandomForestClassifier, VotingClassifier, BaggingClassifier\n",
    "from sklearn.ensemble import GradientBoostingClassifier\n",
    "from sklearn.linear_model import LogisticRegression\n",
    "from sklearn.ensemble import StackingClassifier\n",
    "from sklearn.naive_bayes import MultinomialNB\n",
    "from sklearn.naive_bayes import GaussianNB\n",
    "from sklearn.discriminant_analysis import QuadraticDiscriminantAnalysis\n",
    "from sklearn.compose import ColumnTransformer\n",
    "from sklearn.preprocessing import MinMaxScaler"
   ]
  },
  {
   "cell_type": "code",
   "execution_count": 2,
   "id": "eaeaab7d",
   "metadata": {},
   "outputs": [],
   "source": [
    "training_data, test_data = data.get_data()\n",
    "\n",
    "training_data = data.clean_data(training_data)\n",
    "test_data = data.clean_data(test_data)\n",
    "\n",
    "y_train = training_data['label']\n",
    "X_train = training_data.drop(\"label\", axis=1)\n",
    "\n",
    "y_test = test_data['label']\n",
    "X_test = test_data.drop('label', axis=1)\n",
    "\n",
    "\n",
    "model = SVC(degree=2, gamma='scale', kernel='poly', coef0=5, probability=True)"
   ]
  },
  {
   "cell_type": "code",
   "execution_count": 3,
   "id": "8803faa4",
   "metadata": {},
   "outputs": [],
   "source": [
    "trainer = Trainer(X_train=X_train,\n",
    "                  y_train=y_train,\n",
    "                  X_test=X_test,\n",
    "                  y_test=y_test,\n",
    "                  model = model)"
   ]
  },
  {
   "cell_type": "code",
   "execution_count": 4,
   "id": "84f26a14",
   "metadata": {},
   "outputs": [],
   "source": [
    "trainer.run()"
   ]
  },
  {
   "cell_type": "code",
   "execution_count": 5,
   "id": "c57e821d",
   "metadata": {},
   "outputs": [
    {
     "data": {
      "text/plain": [
       "tuple"
      ]
     },
     "execution_count": 5,
     "metadata": {},
     "output_type": "execute_result"
    }
   ],
   "source": [
    "type(trainer.pipeline.get_params()['steps'][1])"
   ]
  },
  {
   "cell_type": "code",
   "execution_count": 6,
   "id": "6b067930",
   "metadata": {},
   "outputs": [
    {
     "data": {
      "text/plain": [
       "('model', SVC(coef0=5, degree=2, kernel='poly', probability=True))"
      ]
     },
     "execution_count": 6,
     "metadata": {},
     "output_type": "execute_result"
    }
   ],
   "source": [
    "trainer.pipeline.get_params()['steps'][1]"
   ]
  },
  {
   "cell_type": "code",
   "execution_count": 7,
   "id": "281566e4",
   "metadata": {},
   "outputs": [
    {
     "data": {
      "text/plain": [
       "SVC(coef0=5, degree=2, kernel='poly', probability=True)"
      ]
     },
     "execution_count": 7,
     "metadata": {},
     "output_type": "execute_result"
    }
   ],
   "source": [
    "trainer.pipeline.get_params()['steps'][1][1]"
   ]
  },
  {
   "cell_type": "code",
   "execution_count": null,
   "id": "f185bc6e",
   "metadata": {},
   "outputs": [],
   "source": []
  }
 ],
 "metadata": {
  "kernelspec": {
   "display_name": "Python 3 (ipykernel)",
   "language": "python",
   "name": "python3"
  },
  "language_info": {
   "codemirror_mode": {
    "name": "ipython",
    "version": 3
   },
   "file_extension": ".py",
   "mimetype": "text/x-python",
   "name": "python",
   "nbconvert_exporter": "python",
   "pygments_lexer": "ipython3",
   "version": "3.8.12"
  }
 },
 "nbformat": 4,
 "nbformat_minor": 5
}
