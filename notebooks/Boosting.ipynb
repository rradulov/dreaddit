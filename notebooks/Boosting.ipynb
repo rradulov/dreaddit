{
 "cells": [
  {
   "cell_type": "code",
   "execution_count": 1,
   "id": "7e39dac3",
   "metadata": {},
   "outputs": [],
   "source": [
    "import pandas as pd\n",
    "import numpy as np\n",
    "import matplotlib.pyplot as plt\n",
    "import seaborn as sns"
   ]
  },
  {
   "cell_type": "code",
   "execution_count": 2,
   "id": "9a481e25",
   "metadata": {},
   "outputs": [],
   "source": [
    "train_data = pd.read_csv('../notebooks/model_processed_data.csv')"
   ]
  },
  {
   "cell_type": "code",
   "execution_count": 3,
   "id": "8a912aa4",
   "metadata": {},
   "outputs": [],
   "source": [
    "test_data = pd.read_csv('../notebooks/model_processed_data_test.csv')"
   ]
  },
  {
   "cell_type": "code",
   "execution_count": 4,
   "id": "8b7b1809",
   "metadata": {},
   "outputs": [
    {
     "data": {
      "text/html": [
       "<div>\n",
       "<style scoped>\n",
       "    .dataframe tbody tr th:only-of-type {\n",
       "        vertical-align: middle;\n",
       "    }\n",
       "\n",
       "    .dataframe tbody tr th {\n",
       "        vertical-align: top;\n",
       "    }\n",
       "\n",
       "    .dataframe thead th {\n",
       "        text-align: right;\n",
       "    }\n",
       "</style>\n",
       "<table border=\"1\" class=\"dataframe\">\n",
       "  <thead>\n",
       "    <tr style=\"text-align: right;\">\n",
       "      <th></th>\n",
       "      <th>id</th>\n",
       "      <th>lex_liwc_OtherP</th>\n",
       "      <th>lex_liwc_death</th>\n",
       "      <th>lex_liwc_QMark</th>\n",
       "      <th>lex_liwc_Exclam</th>\n",
       "      <th>lex_liwc_Quote</th>\n",
       "      <th>lex_liwc_Colon</th>\n",
       "      <th>lex_liwc_Dash</th>\n",
       "      <th>lex_liwc_filler</th>\n",
       "      <th>lex_liwc_nonflu</th>\n",
       "      <th>...</th>\n",
       "      <th>lex_liwc_Sixltr</th>\n",
       "      <th>lex_liwc_adverb</th>\n",
       "      <th>lex_liwc_article</th>\n",
       "      <th>lex_liwc_WC</th>\n",
       "      <th>lex_liwc_conj</th>\n",
       "      <th>lex_liwc_drives</th>\n",
       "      <th>social_upvote_ratio</th>\n",
       "      <th>social_karma_cap</th>\n",
       "      <th>social_num_comments_cap</th>\n",
       "      <th>label</th>\n",
       "    </tr>\n",
       "  </thead>\n",
       "  <tbody>\n",
       "    <tr>\n",
       "      <th>0</th>\n",
       "      <td>33181</td>\n",
       "      <td>0.000000</td>\n",
       "      <td>0.0</td>\n",
       "      <td>0.000000</td>\n",
       "      <td>0.0</td>\n",
       "      <td>0.4136</td>\n",
       "      <td>0.055917</td>\n",
       "      <td>0.0</td>\n",
       "      <td>0.0</td>\n",
       "      <td>0.0</td>\n",
       "      <td>...</td>\n",
       "      <td>0.198557</td>\n",
       "      <td>0.241251</td>\n",
       "      <td>0.222151</td>\n",
       "      <td>0.357616</td>\n",
       "      <td>0.208313</td>\n",
       "      <td>0.229867</td>\n",
       "      <td>0.837209</td>\n",
       "      <td>0.025</td>\n",
       "      <td>0.01</td>\n",
       "      <td>1</td>\n",
       "    </tr>\n",
       "    <tr>\n",
       "      <th>1</th>\n",
       "      <td>2606</td>\n",
       "      <td>0.009366</td>\n",
       "      <td>0.0</td>\n",
       "      <td>0.000000</td>\n",
       "      <td>0.0</td>\n",
       "      <td>0.0000</td>\n",
       "      <td>0.000000</td>\n",
       "      <td>0.0</td>\n",
       "      <td>0.0</td>\n",
       "      <td>0.0</td>\n",
       "      <td>...</td>\n",
       "      <td>0.324017</td>\n",
       "      <td>0.171255</td>\n",
       "      <td>0.531874</td>\n",
       "      <td>0.334437</td>\n",
       "      <td>0.399227</td>\n",
       "      <td>0.416000</td>\n",
       "      <td>0.593023</td>\n",
       "      <td>0.020</td>\n",
       "      <td>0.02</td>\n",
       "      <td>0</td>\n",
       "    </tr>\n",
       "    <tr>\n",
       "      <th>2</th>\n",
       "      <td>38816</td>\n",
       "      <td>0.000000</td>\n",
       "      <td>0.0</td>\n",
       "      <td>0.005692</td>\n",
       "      <td>0.0</td>\n",
       "      <td>0.1920</td>\n",
       "      <td>0.000000</td>\n",
       "      <td>0.0</td>\n",
       "      <td>0.0</td>\n",
       "      <td>0.0</td>\n",
       "      <td>...</td>\n",
       "      <td>0.266738</td>\n",
       "      <td>0.083994</td>\n",
       "      <td>0.347070</td>\n",
       "      <td>0.526490</td>\n",
       "      <td>0.289512</td>\n",
       "      <td>0.239467</td>\n",
       "      <td>0.616279</td>\n",
       "      <td>0.010</td>\n",
       "      <td>0.00</td>\n",
       "      <td>1</td>\n",
       "    </tr>\n",
       "    <tr>\n",
       "      <th>3</th>\n",
       "      <td>239</td>\n",
       "      <td>0.000000</td>\n",
       "      <td>0.0</td>\n",
       "      <td>0.000000</td>\n",
       "      <td>0.0</td>\n",
       "      <td>0.1176</td>\n",
       "      <td>0.000000</td>\n",
       "      <td>0.0</td>\n",
       "      <td>0.0</td>\n",
       "      <td>0.0</td>\n",
       "      <td>...</td>\n",
       "      <td>0.123771</td>\n",
       "      <td>0.307513</td>\n",
       "      <td>0.212492</td>\n",
       "      <td>0.877483</td>\n",
       "      <td>0.478009</td>\n",
       "      <td>0.175733</td>\n",
       "      <td>0.418605</td>\n",
       "      <td>0.000</td>\n",
       "      <td>0.05</td>\n",
       "      <td>1</td>\n",
       "    </tr>\n",
       "    <tr>\n",
       "      <th>4</th>\n",
       "      <td>1421</td>\n",
       "      <td>0.000000</td>\n",
       "      <td>0.0</td>\n",
       "      <td>0.000000</td>\n",
       "      <td>0.0</td>\n",
       "      <td>0.0000</td>\n",
       "      <td>0.072822</td>\n",
       "      <td>0.0</td>\n",
       "      <td>0.0</td>\n",
       "      <td>0.0</td>\n",
       "      <td>...</td>\n",
       "      <td>0.483108</td>\n",
       "      <td>0.209519</td>\n",
       "      <td>0.289118</td>\n",
       "      <td>0.268212</td>\n",
       "      <td>0.217013</td>\n",
       "      <td>0.209867</td>\n",
       "      <td>1.000000</td>\n",
       "      <td>0.120</td>\n",
       "      <td>0.01</td>\n",
       "      <td>1</td>\n",
       "    </tr>\n",
       "  </tbody>\n",
       "</table>\n",
       "<p>5 rows × 60 columns</p>\n",
       "</div>"
      ],
      "text/plain": [
       "      id  lex_liwc_OtherP  lex_liwc_death  lex_liwc_QMark  lex_liwc_Exclam  \\\n",
       "0  33181         0.000000             0.0        0.000000              0.0   \n",
       "1   2606         0.009366             0.0        0.000000              0.0   \n",
       "2  38816         0.000000             0.0        0.005692              0.0   \n",
       "3    239         0.000000             0.0        0.000000              0.0   \n",
       "4   1421         0.000000             0.0        0.000000              0.0   \n",
       "\n",
       "   lex_liwc_Quote  lex_liwc_Colon  lex_liwc_Dash  lex_liwc_filler  \\\n",
       "0          0.4136        0.055917            0.0              0.0   \n",
       "1          0.0000        0.000000            0.0              0.0   \n",
       "2          0.1920        0.000000            0.0              0.0   \n",
       "3          0.1176        0.000000            0.0              0.0   \n",
       "4          0.0000        0.072822            0.0              0.0   \n",
       "\n",
       "   lex_liwc_nonflu  ...  lex_liwc_Sixltr  lex_liwc_adverb  lex_liwc_article  \\\n",
       "0              0.0  ...         0.198557         0.241251          0.222151   \n",
       "1              0.0  ...         0.324017         0.171255          0.531874   \n",
       "2              0.0  ...         0.266738         0.083994          0.347070   \n",
       "3              0.0  ...         0.123771         0.307513          0.212492   \n",
       "4              0.0  ...         0.483108         0.209519          0.289118   \n",
       "\n",
       "   lex_liwc_WC  lex_liwc_conj  lex_liwc_drives  social_upvote_ratio  \\\n",
       "0     0.357616       0.208313         0.229867             0.837209   \n",
       "1     0.334437       0.399227         0.416000             0.593023   \n",
       "2     0.526490       0.289512         0.239467             0.616279   \n",
       "3     0.877483       0.478009         0.175733             0.418605   \n",
       "4     0.268212       0.217013         0.209867             1.000000   \n",
       "\n",
       "   social_karma_cap  social_num_comments_cap  label  \n",
       "0             0.025                     0.01      1  \n",
       "1             0.020                     0.02      0  \n",
       "2             0.010                     0.00      1  \n",
       "3             0.000                     0.05      1  \n",
       "4             0.120                     0.01      1  \n",
       "\n",
       "[5 rows x 60 columns]"
      ]
     },
     "execution_count": 4,
     "metadata": {},
     "output_type": "execute_result"
    }
   ],
   "source": [
    "train_data.head()"
   ]
  },
  {
   "cell_type": "code",
   "execution_count": 5,
   "id": "c818b2e7",
   "metadata": {},
   "outputs": [
    {
     "data": {
      "text/plain": [
       "(2833, 60)"
      ]
     },
     "execution_count": 5,
     "metadata": {},
     "output_type": "execute_result"
    }
   ],
   "source": [
    "train_data.shape"
   ]
  },
  {
   "cell_type": "code",
   "execution_count": 6,
   "id": "63ddc568",
   "metadata": {},
   "outputs": [],
   "source": [
    "y = train_data.pop('label')\n",
    "X = train_data"
   ]
  },
  {
   "cell_type": "code",
   "execution_count": 7,
   "id": "4fb17ef8",
   "metadata": {},
   "outputs": [],
   "source": [
    "X.drop('id', axis=1, inplace=True)"
   ]
  },
  {
   "cell_type": "code",
   "execution_count": 8,
   "id": "55bf97f8",
   "metadata": {},
   "outputs": [
    {
     "data": {
      "text/plain": [
       "float64    58\n",
       "dtype: int64"
      ]
     },
     "execution_count": 8,
     "metadata": {},
     "output_type": "execute_result"
    }
   ],
   "source": [
    "X.dtypes.value_counts()"
   ]
  },
  {
   "cell_type": "code",
   "execution_count": 9,
   "id": "96240371",
   "metadata": {},
   "outputs": [],
   "source": [
    "from sklearn.ensemble import GradientBoostingClassifier\n",
    "gradbc = GradientBoostingClassifier(n_estimators=250, max_depth=2, learning_rate=0.1)"
   ]
  },
  {
   "cell_type": "code",
   "execution_count": 10,
   "id": "bd814ed2",
   "metadata": {},
   "outputs": [
    {
     "data": {
      "text/plain": [
       "0.7349087940371802"
      ]
     },
     "execution_count": 10,
     "metadata": {},
     "output_type": "execute_result"
    }
   ],
   "source": [
    "from sklearn.model_selection import cross_val_score\n",
    "grad_score = cross_val_score(gradbc, X, y, cv=5).mean()\n",
    "grad_score"
   ]
  },
  {
   "cell_type": "code",
   "execution_count": 11,
   "id": "61abd449",
   "metadata": {},
   "outputs": [
    {
     "name": "stderr",
     "output_type": "stream",
     "text": [
      "/Users/helenelipp/.pyenv/versions/3.8.12/envs/dreaddit/lib/python3.8/site-packages/xgboost/compat.py:36: FutureWarning: pandas.Int64Index is deprecated and will be removed from pandas in a future version. Use pandas.Index with the appropriate dtype instead.\n",
      "  from pandas import MultiIndex, Int64Index\n",
      "/Users/helenelipp/.pyenv/versions/3.8.12/envs/dreaddit/lib/python3.8/site-packages/xgboost/sklearn.py:1224: UserWarning: The use of label encoder in XGBClassifier is deprecated and will be removed in a future release. To remove this warning, do the following: 1) Pass option use_label_encoder=False when constructing XGBClassifier object; and 2) Encode your labels (y) as integers starting with 0, i.e. 0, 1, 2, ..., [num_class - 1].\n",
      "  warnings.warn(label_encoder_deprecation_msg, UserWarning)\n",
      "/Users/helenelipp/.pyenv/versions/3.8.12/envs/dreaddit/lib/python3.8/site-packages/xgboost/data.py:262: FutureWarning: pandas.Int64Index is deprecated and will be removed from pandas in a future version. Use pandas.Index with the appropriate dtype instead.\n",
      "  elif isinstance(data.columns, (pd.Int64Index, pd.RangeIndex)):\n"
     ]
    },
    {
     "name": "stdout",
     "output_type": "stream",
     "text": [
      "[19:06:28] WARNING: /Users/runner/work/xgboost/xgboost/src/learner.cc:1115: Starting in XGBoost 1.3.0, the default evaluation metric used with the objective 'binary:logistic' was changed from 'error' to 'logloss'. Explicitly set eval_metric if you'd like to restore the old behavior.\n"
     ]
    },
    {
     "name": "stderr",
     "output_type": "stream",
     "text": [
      "/Users/helenelipp/.pyenv/versions/3.8.12/envs/dreaddit/lib/python3.8/site-packages/xgboost/sklearn.py:1224: UserWarning: The use of label encoder in XGBClassifier is deprecated and will be removed in a future release. To remove this warning, do the following: 1) Pass option use_label_encoder=False when constructing XGBClassifier object; and 2) Encode your labels (y) as integers starting with 0, i.e. 0, 1, 2, ..., [num_class - 1].\n",
      "  warnings.warn(label_encoder_deprecation_msg, UserWarning)\n",
      "/Users/helenelipp/.pyenv/versions/3.8.12/envs/dreaddit/lib/python3.8/site-packages/xgboost/data.py:262: FutureWarning: pandas.Int64Index is deprecated and will be removed from pandas in a future version. Use pandas.Index with the appropriate dtype instead.\n",
      "  elif isinstance(data.columns, (pd.Int64Index, pd.RangeIndex)):\n"
     ]
    },
    {
     "name": "stdout",
     "output_type": "stream",
     "text": [
      "[19:06:29] WARNING: /Users/runner/work/xgboost/xgboost/src/learner.cc:1115: Starting in XGBoost 1.3.0, the default evaluation metric used with the objective 'binary:logistic' was changed from 'error' to 'logloss'. Explicitly set eval_metric if you'd like to restore the old behavior.\n"
     ]
    },
    {
     "name": "stderr",
     "output_type": "stream",
     "text": [
      "/Users/helenelipp/.pyenv/versions/3.8.12/envs/dreaddit/lib/python3.8/site-packages/xgboost/sklearn.py:1224: UserWarning: The use of label encoder in XGBClassifier is deprecated and will be removed in a future release. To remove this warning, do the following: 1) Pass option use_label_encoder=False when constructing XGBClassifier object; and 2) Encode your labels (y) as integers starting with 0, i.e. 0, 1, 2, ..., [num_class - 1].\n",
      "  warnings.warn(label_encoder_deprecation_msg, UserWarning)\n",
      "/Users/helenelipp/.pyenv/versions/3.8.12/envs/dreaddit/lib/python3.8/site-packages/xgboost/data.py:262: FutureWarning: pandas.Int64Index is deprecated and will be removed from pandas in a future version. Use pandas.Index with the appropriate dtype instead.\n",
      "  elif isinstance(data.columns, (pd.Int64Index, pd.RangeIndex)):\n"
     ]
    },
    {
     "name": "stdout",
     "output_type": "stream",
     "text": [
      "[19:06:30] WARNING: /Users/runner/work/xgboost/xgboost/src/learner.cc:1115: Starting in XGBoost 1.3.0, the default evaluation metric used with the objective 'binary:logistic' was changed from 'error' to 'logloss'. Explicitly set eval_metric if you'd like to restore the old behavior.\n"
     ]
    },
    {
     "name": "stderr",
     "output_type": "stream",
     "text": [
      "/Users/helenelipp/.pyenv/versions/3.8.12/envs/dreaddit/lib/python3.8/site-packages/xgboost/sklearn.py:1224: UserWarning: The use of label encoder in XGBClassifier is deprecated and will be removed in a future release. To remove this warning, do the following: 1) Pass option use_label_encoder=False when constructing XGBClassifier object; and 2) Encode your labels (y) as integers starting with 0, i.e. 0, 1, 2, ..., [num_class - 1].\n",
      "  warnings.warn(label_encoder_deprecation_msg, UserWarning)\n",
      "/Users/helenelipp/.pyenv/versions/3.8.12/envs/dreaddit/lib/python3.8/site-packages/xgboost/data.py:262: FutureWarning: pandas.Int64Index is deprecated and will be removed from pandas in a future version. Use pandas.Index with the appropriate dtype instead.\n",
      "  elif isinstance(data.columns, (pd.Int64Index, pd.RangeIndex)):\n"
     ]
    },
    {
     "name": "stdout",
     "output_type": "stream",
     "text": [
      "[19:06:31] WARNING: /Users/runner/work/xgboost/xgboost/src/learner.cc:1115: Starting in XGBoost 1.3.0, the default evaluation metric used with the objective 'binary:logistic' was changed from 'error' to 'logloss'. Explicitly set eval_metric if you'd like to restore the old behavior.\n"
     ]
    },
    {
     "name": "stderr",
     "output_type": "stream",
     "text": [
      "/Users/helenelipp/.pyenv/versions/3.8.12/envs/dreaddit/lib/python3.8/site-packages/xgboost/sklearn.py:1224: UserWarning: The use of label encoder in XGBClassifier is deprecated and will be removed in a future release. To remove this warning, do the following: 1) Pass option use_label_encoder=False when constructing XGBClassifier object; and 2) Encode your labels (y) as integers starting with 0, i.e. 0, 1, 2, ..., [num_class - 1].\n",
      "  warnings.warn(label_encoder_deprecation_msg, UserWarning)\n",
      "/Users/helenelipp/.pyenv/versions/3.8.12/envs/dreaddit/lib/python3.8/site-packages/xgboost/data.py:262: FutureWarning: pandas.Int64Index is deprecated and will be removed from pandas in a future version. Use pandas.Index with the appropriate dtype instead.\n",
      "  elif isinstance(data.columns, (pd.Int64Index, pd.RangeIndex)):\n"
     ]
    },
    {
     "name": "stdout",
     "output_type": "stream",
     "text": [
      "[19:06:31] WARNING: /Users/runner/work/xgboost/xgboost/src/learner.cc:1115: Starting in XGBoost 1.3.0, the default evaluation metric used with the objective 'binary:logistic' was changed from 'error' to 'logloss'. Explicitly set eval_metric if you'd like to restore the old behavior.\n"
     ]
    },
    {
     "data": {
      "text/plain": [
       "0.7402041617589321"
      ]
     },
     "execution_count": 11,
     "metadata": {},
     "output_type": "execute_result"
    }
   ],
   "source": [
    "from xgboost import XGBClassifier\n",
    "xgb = XGBClassifier(n_estimators=250, max_depth=2, learning_rate=0.1)\n",
    "\n",
    "xgb_score = cross_val_score(xgb, X, y, cv=5).mean()\n",
    "xgb_score"
   ]
  },
  {
   "cell_type": "code",
   "execution_count": 12,
   "id": "7754c0c0",
   "metadata": {},
   "outputs": [],
   "source": [
    "estimator = GradientBoostingClassifier()"
   ]
  },
  {
   "cell_type": "code",
   "execution_count": 13,
   "id": "eb1b8670",
   "metadata": {},
   "outputs": [],
   "source": [
    "from sklearn.model_selection import GridSearchCV\n",
    "\n",
    "grid_search = GridSearchCV(\n",
    "    estimator = estimator,\n",
    "    param_grid={'loss': ['deviance', 'exponential'],\n",
    "            'learning_rate' : [0.09, 0.1], \n",
    "            'n_estimators': [78,90,100,200,250],\n",
    "            'max_depth': [2,3,4,5],\n",
    "            'max_features': ['auto', 'sqrt', 'log2']},\n",
    "    \n",
    "    verbose = 1,\n",
    "    n_jobs=-1,\n",
    "    cv=10,\n",
    "    scoring='accuracy')"
   ]
  },
  {
   "cell_type": "code",
   "execution_count": 14,
   "id": "76c39a0d",
   "metadata": {
    "scrolled": true
   },
   "outputs": [
    {
     "name": "stdout",
     "output_type": "stream",
     "text": [
      "Fitting 10 folds for each of 240 candidates, totalling 2400 fits\n"
     ]
    },
    {
     "data": {
      "text/plain": [
       "GridSearchCV(cv=10, estimator=GradientBoostingClassifier(), n_jobs=-1,\n",
       "             param_grid={'learning_rate': [0.09, 0.1],\n",
       "                         'loss': ['deviance', 'exponential'],\n",
       "                         'max_depth': [2, 3, 4, 5],\n",
       "                         'max_features': ['auto', 'sqrt', 'log2'],\n",
       "                         'n_estimators': [78, 90, 100, 200, 250]},\n",
       "             scoring='accuracy', verbose=1)"
      ]
     },
     "execution_count": 14,
     "metadata": {},
     "output_type": "execute_result"
    }
   ],
   "source": [
    "grid_search.fit(X, y)"
   ]
  },
  {
   "cell_type": "code",
   "execution_count": 15,
   "id": "874feb7a",
   "metadata": {},
   "outputs": [
    {
     "data": {
      "text/plain": [
       "0.7462026576419649"
      ]
     },
     "execution_count": 15,
     "metadata": {},
     "output_type": "execute_result"
    }
   ],
   "source": [
    "grid_search.best_score_"
   ]
  },
  {
   "cell_type": "code",
   "execution_count": 16,
   "id": "205511bb",
   "metadata": {},
   "outputs": [
    {
     "data": {
      "text/plain": [
       "{'learning_rate': 0.1,\n",
       " 'loss': 'deviance',\n",
       " 'max_depth': 3,\n",
       " 'max_features': 'sqrt',\n",
       " 'n_estimators': 78}"
      ]
     },
     "execution_count": 16,
     "metadata": {},
     "output_type": "execute_result"
    }
   ],
   "source": [
    "grid_search.best_params_"
   ]
  },
  {
   "cell_type": "code",
   "execution_count": 17,
   "id": "742cd1f7",
   "metadata": {},
   "outputs": [],
   "source": [
    "xgb_estimator = XGBClassifier()"
   ]
  },
  {
   "cell_type": "code",
   "execution_count": 18,
   "id": "f9154007",
   "metadata": {},
   "outputs": [],
   "source": [
    "grid_search2 = GridSearchCV(\n",
    "    estimator = xgb_estimator,\n",
    "    param_grid={'ampling_method': ['uniform'],\n",
    "                'booster': ['gblinear'],\n",
    "                'grow_policy': ['depthwise'],\n",
    "                'lambda': [0],\n",
    "                'learning_rate': [0.1, 0.09, 1.1],\n",
    "                'max_depth': [2],\n",
    "                'n_estimators': [190],\n",
    "                'nthread': [0],\n",
    "                'num_parallel_tree': [2],\n",
    "                'tree_method': ['auto']},\n",
    "    verbose = 1,\n",
    "    n_jobs=-1,\n",
    "    cv=10,\n",
    "    scoring='accuracy')"
   ]
  },
  {
   "cell_type": "code",
   "execution_count": 19,
   "id": "2cb68abd",
   "metadata": {},
   "outputs": [
    {
     "name": "stdout",
     "output_type": "stream",
     "text": [
      "Fitting 10 folds for each of 3 candidates, totalling 30 fits\n"
     ]
    },
    {
     "name": "stderr",
     "output_type": "stream",
     "text": [
      "/Users/helenelipp/.pyenv/versions/3.8.12/envs/dreaddit/lib/python3.8/site-packages/xgboost/sklearn.py:1224: UserWarning: The use of label encoder in XGBClassifier is deprecated and will be removed in a future release. To remove this warning, do the following: 1) Pass option use_label_encoder=False when constructing XGBClassifier object; and 2) Encode your labels (y) as integers starting with 0, i.e. 0, 1, 2, ..., [num_class - 1].\n",
      "  warnings.warn(label_encoder_deprecation_msg, UserWarning)\n",
      "/Users/helenelipp/.pyenv/versions/3.8.12/envs/dreaddit/lib/python3.8/site-packages/xgboost/data.py:262: FutureWarning: pandas.Int64Index is deprecated and will be removed from pandas in a future version. Use pandas.Index with the appropriate dtype instead.\n",
      "  elif isinstance(data.columns, (pd.Int64Index, pd.RangeIndex)):\n"
     ]
    },
    {
     "name": "stdout",
     "output_type": "stream",
     "text": [
      "[19:20:41] WARNING: /Users/runner/work/xgboost/xgboost/src/learner.cc:576: \n",
      "Parameters: { \"ampling_method\", \"grow_policy\", \"max_depth\", \"num_parallel_tree\", \"tree_method\" } might not be used.\n",
      "\n",
      "  This could be a false alarm, with some parameters getting used by language bindings but\n",
      "  then being mistakenly passed down to XGBoost core, or some parameter actually being used\n",
      "  but getting flagged wrongly here. Please open an issue if you find any such cases.\n",
      "\n",
      "\n",
      "[19:20:41] WARNING: /Users/runner/work/xgboost/xgboost/src/learner.cc:1115: Starting in XGBoost 1.3.0, the default evaluation metric used with the objective 'binary:logistic' was changed from 'error' to 'logloss'. Explicitly set eval_metric if you'd like to restore the old behavior.\n"
     ]
    },
    {
     "data": {
      "text/plain": [
       "GridSearchCV(cv=10,\n",
       "             estimator=XGBClassifier(base_score=None, booster=None,\n",
       "                                     colsample_bylevel=None,\n",
       "                                     colsample_bynode=None,\n",
       "                                     colsample_bytree=None,\n",
       "                                     enable_categorical=False, gamma=None,\n",
       "                                     gpu_id=None, importance_type=None,\n",
       "                                     interaction_constraints=None,\n",
       "                                     learning_rate=None, max_delta_step=None,\n",
       "                                     max_depth=None, min_child_weight=None,\n",
       "                                     missing=nan, monotone_constraints=None...\n",
       "                                     reg_lambda=None, scale_pos_weight=None,\n",
       "                                     subsample=None, tree_method=None,\n",
       "                                     validate_parameters=None, verbosity=None),\n",
       "             n_jobs=-1,\n",
       "             param_grid={'ampling_method': ['uniform'], 'booster': ['gblinear'],\n",
       "                         'grow_policy': ['depthwise'], 'lambda': [0],\n",
       "                         'learning_rate': [0.1, 0.09, 1.1], 'max_depth': [2],\n",
       "                         'n_estimators': [190], 'nthread': [0],\n",
       "                         'num_parallel_tree': [2], 'tree_method': ['auto']},\n",
       "             scoring='accuracy', verbose=1)"
      ]
     },
     "execution_count": 19,
     "metadata": {},
     "output_type": "execute_result"
    }
   ],
   "source": [
    "grid_search2.fit(X, y)"
   ]
  },
  {
   "cell_type": "code",
   "execution_count": 20,
   "id": "14c83626",
   "metadata": {},
   "outputs": [
    {
     "data": {
      "text/plain": [
       "0.7515042552132584"
      ]
     },
     "execution_count": 20,
     "metadata": {},
     "output_type": "execute_result"
    }
   ],
   "source": [
    "grid_search2.best_score_"
   ]
  },
  {
   "cell_type": "code",
   "execution_count": 21,
   "id": "d48de8ca",
   "metadata": {
    "scrolled": true
   },
   "outputs": [
    {
     "data": {
      "text/plain": [
       "{'ampling_method': 'uniform',\n",
       " 'booster': 'gblinear',\n",
       " 'grow_policy': 'depthwise',\n",
       " 'lambda': 0,\n",
       " 'learning_rate': 0.1,\n",
       " 'max_depth': 2,\n",
       " 'n_estimators': 190,\n",
       " 'nthread': 0,\n",
       " 'num_parallel_tree': 2,\n",
       " 'tree_method': 'auto'}"
      ]
     },
     "execution_count": 21,
     "metadata": {},
     "output_type": "execute_result"
    }
   ],
   "source": [
    "grid_search2.best_params_"
   ]
  },
  {
   "cell_type": "code",
   "execution_count": 22,
   "id": "1825d359",
   "metadata": {},
   "outputs": [],
   "source": [
    "from sklearn.ensemble import RandomForestClassifier\n",
    "rfc = RandomForestClassifier()"
   ]
  },
  {
   "cell_type": "code",
   "execution_count": 25,
   "id": "6a066bf7",
   "metadata": {},
   "outputs": [],
   "source": [
    "grid_rfc = GridSearchCV(\n",
    "    estimator = rfc,\n",
    "    param_grid={'learning_rate' : [0.09, 0.1, 0.2], \n",
    "            'n_estimators': [80,90,100],\n",
    "            'max_depth': [2,3,4]},\n",
    "    verbose = 1,\n",
    "    n_jobs=-1,\n",
    "    cv=10,\n",
    "    scoring='accuracy')"
   ]
  },
  {
   "cell_type": "code",
   "execution_count": null,
   "id": "adc8f4de",
   "metadata": {
    "collapsed": true
   },
   "outputs": [
    {
     "name": "stdout",
     "output_type": "stream",
     "text": [
      "Fitting 10 folds for each of 27 candidates, totalling 270 fits\n"
     ]
    }
   ],
   "source": [
    "grid_rfc.fit(X, y)"
   ]
  },
  {
   "cell_type": "code",
   "execution_count": 24,
   "id": "1908857d",
   "metadata": {
    "scrolled": true
   },
   "outputs": [
    {
     "ename": "AttributeError",
     "evalue": "'GridSearchCV' object has no attribute 'best_score_'",
     "output_type": "error",
     "traceback": [
      "\u001b[0;31m---------------------------------------------------------------------------\u001b[0m",
      "\u001b[0;31mAttributeError\u001b[0m                            Traceback (most recent call last)",
      "Input \u001b[0;32mIn [24]\u001b[0m, in \u001b[0;36m<module>\u001b[0;34m\u001b[0m\n\u001b[0;32m----> 1\u001b[0m \u001b[43mgrid_rfc\u001b[49m\u001b[38;5;241;43m.\u001b[39;49m\u001b[43mbest_score_\u001b[49m\n",
      "\u001b[0;31mAttributeError\u001b[0m: 'GridSearchCV' object has no attribute 'best_score_'"
     ]
    },
    {
     "name": "stdout",
     "output_type": "stream",
     "text": [
      "ERROR! Session/line number was not unique in database. History logging moved to new session 44\n"
     ]
    }
   ],
   "source": [
    "grid_rfc.best_score_"
   ]
  },
  {
   "cell_type": "code",
   "execution_count": null,
   "id": "ccc305cc",
   "metadata": {
    "scrolled": true
   },
   "outputs": [],
   "source": [
    "grid_rfc.best_params_"
   ]
  },
  {
   "cell_type": "code",
   "execution_count": null,
   "id": "7bb3ca5f",
   "metadata": {},
   "outputs": [],
   "source": []
  }
 ],
 "metadata": {
  "kernelspec": {
   "display_name": "Python 3 (ipykernel)",
   "language": "python",
   "name": "python3"
  },
  "language_info": {
   "codemirror_mode": {
    "name": "ipython",
    "version": 3
   },
   "file_extension": ".py",
   "mimetype": "text/x-python",
   "name": "python",
   "nbconvert_exporter": "python",
   "pygments_lexer": "ipython3",
   "version": "3.8.12"
  },
  "toc": {
   "base_numbering": 1,
   "nav_menu": {},
   "number_sections": true,
   "sideBar": true,
   "skip_h1_title": false,
   "title_cell": "Table of Contents",
   "title_sidebar": "Contents",
   "toc_cell": false,
   "toc_position": {},
   "toc_section_display": true,
   "toc_window_display": false
  }
 },
 "nbformat": 4,
 "nbformat_minor": 5
}
