{
 "cells": [
  {
   "cell_type": "markdown",
   "id": "e2e94b94",
   "metadata": {},
   "source": [
    "## Import Data"
   ]
  },
  {
   "cell_type": "code",
   "execution_count": 1,
   "id": "72154ea0",
   "metadata": {},
   "outputs": [],
   "source": [
    "import pandas as pd\n",
    "import numpy as np"
   ]
  },
  {
   "cell_type": "code",
   "execution_count": 2,
   "id": "fa4ffbe2",
   "metadata": {},
   "outputs": [],
   "source": [
    "filepath = \"/Users/jackmorrissey/code/rradulov/dreaddit/raw_data/model_processed_data.csv\"\n",
    "test_filepath = \"/Users/jackmorrissey/code/rradulov/dreaddit/raw_data/model_processed_data_test.csv\"\n",
    "\n",
    "df = pd.read_csv(filepath)\n",
    "df_test = pd.read_csv(test_filepath)\n",
    "\n",
    "y_train = df.label\n",
    "X_train = df.drop(columns=['label','id'])\n",
    "y_test = df_test.label\n",
    "X_test = df_test.drop(columns=['label','id'])"
   ]
  },
  {
   "cell_type": "code",
   "execution_count": 3,
   "id": "5179a4f9",
   "metadata": {},
   "outputs": [
    {
     "data": {
      "text/plain": [
       "(2833, 58)"
      ]
     },
     "execution_count": 3,
     "metadata": {},
     "output_type": "execute_result"
    }
   ],
   "source": [
    "X_train.shape"
   ]
  },
  {
   "cell_type": "code",
   "execution_count": 4,
   "id": "eac338a1",
   "metadata": {},
   "outputs": [
    {
     "data": {
      "text/plain": [
       "(715, 58)"
      ]
     },
     "execution_count": 4,
     "metadata": {},
     "output_type": "execute_result"
    }
   ],
   "source": [
    "X_test.shape"
   ]
  },
  {
   "cell_type": "markdown",
   "id": "9a2b4c3a",
   "metadata": {},
   "source": [
    "## Decision Tree Classifier"
   ]
  },
  {
   "cell_type": "code",
   "execution_count": 5,
   "id": "b0f997ca",
   "metadata": {},
   "outputs": [
    {
     "name": "stdout",
     "output_type": "stream",
     "text": [
      "Fitting 5 folds for each of 570 candidates, totalling 2850 fits\n"
     ]
    },
    {
     "name": "stderr",
     "output_type": "stream",
     "text": [
      "[Parallel(n_jobs=-1)]: Using backend LokyBackend with 8 concurrent workers.\n",
      "[Parallel(n_jobs=-1)]: Done  34 tasks      | elapsed:    0.9s\n",
      "[Parallel(n_jobs=-1)]: Done 2677 tasks      | elapsed:    9.3s\n",
      "[Parallel(n_jobs=-1)]: Done 2850 out of 2850 | elapsed:   10.3s finished\n"
     ]
    }
   ],
   "source": [
    "from sklearn.model_selection import GridSearchCV\n",
    "from sklearn.tree import DecisionTreeClassifier\n",
    "\n",
    "decision_tree = DecisionTreeClassifier()\n",
    "\n",
    "parameters = {'max_depth' : range(2,21,2),\n",
    "              'max_features': range(1,X_train.shape[1])\n",
    "             }\n",
    "\n",
    "\n",
    "grid_search = GridSearchCV(decision_tree, parameters, n_jobs=-1,\n",
    "                           verbose=1, scoring = 'accuracy',\n",
    "                           refit=True, cv=5).fit(X_train, y_train)"
   ]
  },
  {
   "cell_type": "code",
   "execution_count": 6,
   "id": "c7354686",
   "metadata": {},
   "outputs": [
    {
     "data": {
      "text/plain": [
       "dict_keys(['ccp_alpha', 'class_weight', 'criterion', 'max_depth', 'max_features', 'max_leaf_nodes', 'min_impurity_decrease', 'min_impurity_split', 'min_samples_leaf', 'min_samples_split', 'min_weight_fraction_leaf', 'presort', 'random_state', 'splitter'])"
      ]
     },
     "execution_count": 6,
     "metadata": {},
     "output_type": "execute_result"
    }
   ],
   "source": [
    "decision_tree.get_params().keys()"
   ]
  },
  {
   "cell_type": "code",
   "execution_count": 7,
   "id": "5039a0d3",
   "metadata": {},
   "outputs": [
    {
     "data": {
      "text/plain": [
       "{'max_depth': 4, 'max_features': 33}"
      ]
     },
     "execution_count": 7,
     "metadata": {},
     "output_type": "execute_result"
    }
   ],
   "source": [
    "grid_search.best_params_"
   ]
  },
  {
   "cell_type": "code",
   "execution_count": 8,
   "id": "1fdaa218",
   "metadata": {},
   "outputs": [
    {
     "data": {
      "text/plain": [
       "0.6974884862988515"
      ]
     },
     "execution_count": 8,
     "metadata": {},
     "output_type": "execute_result"
    }
   ],
   "source": [
    "grid_search.best_score_"
   ]
  },
  {
   "cell_type": "code",
   "execution_count": 9,
   "id": "1db32fdd",
   "metadata": {},
   "outputs": [],
   "source": [
    "# from sklearn.model_selection import cross_val_score\n",
    "# accuracy = cross_val_score(grid_search, X_train, y_train, cv=10, n_jobs=-1, scoring='accuracy').mean()\n",
    "# accuracy"
   ]
  },
  {
   "cell_type": "markdown",
   "id": "6c512289",
   "metadata": {},
   "source": [
    "## Random Forest Classifier"
   ]
  },
  {
   "cell_type": "code",
   "execution_count": 10,
   "id": "86d675c9",
   "metadata": {},
   "outputs": [],
   "source": [
    "# from sklearn.ensemble import RandomForestClassifier\n",
    "# from sklearn.model_selection import GridSearchCV\n",
    "\n",
    "# random_forest = RandomForestClassifier()\n",
    "\n",
    "# params_RF ={\"max_depth\": range(10,45,5), \n",
    "#             \"min_samples_leaf\": range(1,15,5),\n",
    "#             \"n_estimators\":range(50,300,25)}\n",
    "\n",
    "# grid_search_RF = GridSearchCV(random_forest, params_RF, n_jobs=-1,\n",
    "#                            verbose=1, scoring = 'accuracy',\n",
    "#                            refit=True, cv=5).fit(X_train, y_train)"
   ]
  },
  {
   "cell_type": "code",
   "execution_count": 11,
   "id": "76468099",
   "metadata": {},
   "outputs": [],
   "source": [
    "# grid_search_RF.best_params_"
   ]
  },
  {
   "cell_type": "code",
   "execution_count": 12,
   "id": "eaa2b6ed",
   "metadata": {},
   "outputs": [],
   "source": [
    "# grid_search_RF.best_score_"
   ]
  },
  {
   "cell_type": "code",
   "execution_count": 40,
   "id": "1111181d",
   "metadata": {},
   "outputs": [
    {
     "data": {
      "text/plain": [
       "0.7286713286713287"
      ]
     },
     "execution_count": 40,
     "metadata": {},
     "output_type": "execute_result"
    }
   ],
   "source": [
    "from sklearn.ensemble import RandomForestClassifier\n",
    "\n",
    "best_RF_model = RandomForestClassifier(max_depth=25, min_samples_leaf=6, n_estimators=250)\n",
    "best_RF_model.fit(X_train, y_train).score(X_test, y_test)"
   ]
  },
  {
   "cell_type": "markdown",
   "id": "0b4e86f7",
   "metadata": {},
   "source": [
    "## SVC"
   ]
  },
  {
   "cell_type": "code",
   "execution_count": 14,
   "id": "20aaf5a7",
   "metadata": {},
   "outputs": [],
   "source": [
    "# from sklearn.svm import SVC\n",
    "\n",
    "# params_SVC ={\"C\": [0.001, 0.01, 0.1, 1], \n",
    "#             \"kernel\": ('linear', 'poly', 'rbf')\n",
    "#             }\n",
    "\n",
    "# model_SVC = SVC()\n",
    "\n",
    "# grid_search_SVC = GridSearchCV(model_SVC, params_SVC, n_jobs=-1,\n",
    "#                            verbose=1, scoring = 'accuracy',\n",
    "#                            refit=True, cv=5).fit(X_train, y_train)"
   ]
  },
  {
   "cell_type": "code",
   "execution_count": 15,
   "id": "f4007ac8",
   "metadata": {},
   "outputs": [],
   "source": [
    "# model_SVC.get_params"
   ]
  },
  {
   "cell_type": "code",
   "execution_count": 16,
   "id": "3fef25cf",
   "metadata": {},
   "outputs": [],
   "source": [
    "# best_SVC_params = grid_search_SVC.best_params_\n",
    "# best_SVC_params"
   ]
  },
  {
   "cell_type": "code",
   "execution_count": 17,
   "id": "25d9579d",
   "metadata": {},
   "outputs": [],
   "source": [
    "# grid_search_SVC.best_score_"
   ]
  },
  {
   "cell_type": "code",
   "execution_count": 39,
   "id": "8b40f66a",
   "metadata": {},
   "outputs": [
    {
     "data": {
      "text/plain": [
       "0.7454545454545455"
      ]
     },
     "execution_count": 39,
     "metadata": {},
     "output_type": "execute_result"
    }
   ],
   "source": [
    "from sklearn.svm import SVC\n",
    "\n",
    "best_SVC_model = SVC(degree=2, gamma='scale', kernel='poly', coef0=5, probability=True)\n",
    "best_SVC_model.fit(X_train, y_train).score(X_test, y_test)"
   ]
  },
  {
   "cell_type": "markdown",
   "id": "42dafe22",
   "metadata": {},
   "source": [
    "## Naive Bayes"
   ]
  },
  {
   "cell_type": "code",
   "execution_count": 23,
   "id": "f083f907",
   "metadata": {},
   "outputs": [
    {
     "name": "stdout",
     "output_type": "stream",
     "text": [
      "Fitting 5 folds for each of 4 candidates, totalling 20 fits\n"
     ]
    },
    {
     "name": "stderr",
     "output_type": "stream",
     "text": [
      "[Parallel(n_jobs=-1)]: Using backend LokyBackend with 8 concurrent workers.\n",
      "[Parallel(n_jobs=-1)]: Done  20 out of  20 | elapsed:    0.1s finished\n"
     ]
    }
   ],
   "source": [
    "# from sklearn.naive_bayes import MultinomialNB\n",
    "\n",
    "# params_NB = {\"alpha\": [0.001, 0.01, 0.1, 1]}\n",
    "\n",
    "# model_NB = MultinomialNB()\n",
    "# grid_search_NB = GridSearchCV(model_NB, params_NB, n_jobs=-1,\n",
    "#                                verbose=1, scoring = 'accuracy', \n",
    "#                                refit=True, cv=5).fit(X_train, y_train)"
   ]
  },
  {
   "cell_type": "code",
   "execution_count": 25,
   "id": "810f8200",
   "metadata": {},
   "outputs": [
    {
     "data": {
      "text/plain": [
       "{'alpha': 0.001}"
      ]
     },
     "execution_count": 25,
     "metadata": {},
     "output_type": "execute_result"
    }
   ],
   "source": [
    "# grid_search_NB.best_params_"
   ]
  },
  {
   "cell_type": "code",
   "execution_count": 29,
   "id": "c035fa23",
   "metadata": {},
   "outputs": [],
   "source": [
    "from sklearn.naive_bayes import MultinomialNB\n",
    "best_NB_model = MultinomialNB(alpha=0.001)"
   ]
  },
  {
   "cell_type": "markdown",
   "id": "a9c85073",
   "metadata": {},
   "source": [
    "## Gradient Boosting Classifier"
   ]
  },
  {
   "cell_type": "code",
   "execution_count": 48,
   "id": "fd648fcd",
   "metadata": {},
   "outputs": [
    {
     "name": "stdout",
     "output_type": "stream",
     "text": [
      "Fitting 5 folds for each of 87 candidates, totalling 435 fits\n"
     ]
    },
    {
     "name": "stderr",
     "output_type": "stream",
     "text": [
      "[Parallel(n_jobs=-1)]: Using backend LokyBackend with 8 concurrent workers.\n",
      "[Parallel(n_jobs=-1)]: Done  34 tasks      | elapsed:    2.4s\n",
      "[Parallel(n_jobs=-1)]: Done 184 tasks      | elapsed:   22.3s\n",
      "[Parallel(n_jobs=-1)]: Done 435 out of 435 | elapsed:  1.0min finished\n"
     ]
    }
   ],
   "source": [
    "from sklearn.ensemble import GradientBoostingClassifier\n",
    "\n",
    "model_gb = GradientBoostingClassifier()\n",
    "\n",
    "params_gb = {\n",
    "            \"learning_rate\": [0.001, 0.01, 0.1],\n",
    "            \"n_estimators\": range(5,150,5)\n",
    "            }\n",
    "\n",
    "grid_search_gb = GridSearchCV(model_gb, params_gb, n_jobs=-1,\n",
    "                               verbose=1, scoring = 'accuracy', \n",
    "                               refit=True, cv=5).fit(X_train, y_train)"
   ]
  },
  {
   "cell_type": "code",
   "execution_count": 49,
   "id": "62b285ff",
   "metadata": {},
   "outputs": [
    {
     "data": {
      "text/plain": [
       "{'learning_rate': 0.1, 'n_estimators': 65}"
      ]
     },
     "execution_count": 49,
     "metadata": {},
     "output_type": "execute_result"
    }
   ],
   "source": [
    "grid_search_gb.best_params_"
   ]
  },
  {
   "cell_type": "code",
   "execution_count": 50,
   "id": "b3371ff8",
   "metadata": {},
   "outputs": [
    {
     "data": {
      "text/plain": [
       "0.7468531468531469"
      ]
     },
     "execution_count": 50,
     "metadata": {},
     "output_type": "execute_result"
    }
   ],
   "source": [
    "from sklearn.ensemble import GradientBoostingClassifier\n",
    "\n",
    "best_model_gb = GradientBoostingClassifier(learning_rate=0.1, n_estimators=65)\n",
    "best_model_gb.fit(X_train, y_train).score(X_test, y_test)"
   ]
  },
  {
   "cell_type": "markdown",
   "id": "25040b77",
   "metadata": {},
   "source": [
    "## KNN"
   ]
  },
  {
   "cell_type": "code",
   "execution_count": 61,
   "id": "3033b1e3",
   "metadata": {},
   "outputs": [
    {
     "name": "stdout",
     "output_type": "stream",
     "text": [
      "Fitting 5 folds for each of 108 candidates, totalling 540 fits\n"
     ]
    },
    {
     "name": "stderr",
     "output_type": "stream",
     "text": [
      "[Parallel(n_jobs=-1)]: Using backend LokyBackend with 8 concurrent workers.\n",
      "[Parallel(n_jobs=-1)]: Done  34 tasks      | elapsed:    1.3s\n",
      "[Parallel(n_jobs=-1)]: Done 320 tasks      | elapsed:    4.9s\n",
      "[Parallel(n_jobs=-1)]: Done 540 out of 540 | elapsed:    6.6s finished\n"
     ]
    }
   ],
   "source": [
    "from sklearn.neighbors import KNeighborsClassifier\n",
    "\n",
    "model_KNN = KNeighborsClassifier()\n",
    "\n",
    "params_KNN = {\n",
    "            \"algorithm\": ('ball_tree','kd_tree','brute'),\n",
    "            \"p\": [1,2],\n",
    "            \"weights\":('uniform', 'distance'),\n",
    "            'n_neighbors': range(5,50,5)\n",
    "            }\n",
    "\n",
    "grid_search_KNN = GridSearchCV(model_KNN, params_KNN, n_jobs=-1,\n",
    "                               verbose=1, scoring = 'accuracy', \n",
    "                               refit=True, cv=5).fit(X_train, y_train)"
   ]
  },
  {
   "cell_type": "code",
   "execution_count": 62,
   "id": "7947450f",
   "metadata": {},
   "outputs": [
    {
     "data": {
      "text/plain": [
       "{'algorithm': 'ball_tree', 'n_neighbors': 40, 'p': 1, 'weights': 'distance'}"
      ]
     },
     "execution_count": 62,
     "metadata": {},
     "output_type": "execute_result"
    }
   ],
   "source": [
    "grid_search_KNN.best_params_"
   ]
  },
  {
   "cell_type": "code",
   "execution_count": 63,
   "id": "734283d6",
   "metadata": {},
   "outputs": [
    {
     "data": {
      "text/plain": [
       "0.7289116981696486"
      ]
     },
     "execution_count": 63,
     "metadata": {},
     "output_type": "execute_result"
    }
   ],
   "source": [
    "grid_search_KNN.best_score_"
   ]
  },
  {
   "cell_type": "code",
   "execution_count": 64,
   "id": "08fc015f",
   "metadata": {},
   "outputs": [],
   "source": [
    "from sklearn.neighbors import KNeighborsClassifier\n",
    "best_model_KNN = KNeighborsClassifier(algorithm='ball_tree', n_neighbors=40, p=1, weights='distance')"
   ]
  },
  {
   "cell_type": "code",
   "execution_count": 65,
   "id": "688c96b8",
   "metadata": {},
   "outputs": [
    {
     "data": {
      "text/plain": [
       "0.7356643356643356"
      ]
     },
     "execution_count": 65,
     "metadata": {},
     "output_type": "execute_result"
    }
   ],
   "source": [
    "best_model_KNN.fit(X_train, y_train).score(X_test, y_test)"
   ]
  },
  {
   "cell_type": "markdown",
   "id": "2d56defb",
   "metadata": {},
   "source": [
    "## Logistic Regression"
   ]
  },
  {
   "cell_type": "code",
   "execution_count": 86,
   "id": "264ac89f",
   "metadata": {},
   "outputs": [
    {
     "data": {
      "text/plain": [
       "0.7440559440559441"
      ]
     },
     "execution_count": 86,
     "metadata": {},
     "output_type": "execute_result"
    }
   ],
   "source": [
    "from sklearn.linear_model import LogisticRegression\n",
    "\n",
    "best_log_reg = LogisticRegression(C=1, solver='saga')\n",
    "best_log_reg.fit(X_train, y_train).score(X_test, y_test)"
   ]
  },
  {
   "cell_type": "markdown",
   "id": "325252ef",
   "metadata": {},
   "source": [
    "## Voting Classifier"
   ]
  },
  {
   "cell_type": "code",
   "execution_count": 90,
   "id": "4e1ecb10",
   "metadata": {},
   "outputs": [
    {
     "data": {
      "text/plain": [
       "0.7636363636363637"
      ]
     },
     "execution_count": 90,
     "metadata": {},
     "output_type": "execute_result"
    }
   ],
   "source": [
    "from sklearn.ensemble import VotingClassifier\n",
    "\n",
    "estimators=[\n",
    "            #('Random_Forest', best_RF_model), \n",
    "            ('SVC', best_SVC_model),\n",
    "            ('NB', best_NB_model),\n",
    "            ('GBC', best_model_gb),\n",
    "            #(\"LOGISTIC\", best_log_reg)\n",
    "            #('KNN', best_model_KNN)\n",
    "]\n",
    "\n",
    "voting_classifier = VotingClassifier(estimators= estimators, voting='soft')\n",
    "\n",
    "voting_classifier.fit(X_train, y_train).score(X_test, y_test)"
   ]
  },
  {
   "cell_type": "markdown",
   "id": "b4d59911",
   "metadata": {},
   "source": [
    "## Stacking Classifier"
   ]
  },
  {
   "cell_type": "code",
   "execution_count": 88,
   "id": "59e45172",
   "metadata": {},
   "outputs": [
    {
     "data": {
      "text/plain": [
       "0.7524475524475525"
      ]
     },
     "execution_count": 88,
     "metadata": {},
     "output_type": "execute_result"
    }
   ],
   "source": [
    "from sklearn.ensemble import StackingClassifier\n",
    "\n",
    "\n",
    "stacking_classifier = StackingClassifier(estimators=estimators, final_estimator=LogisticRegression(C=1, solver='saga'), n_jobs = -1)\n",
    "stacking_classifier.fit(X_train, y_train).score(X_test, y_test)"
   ]
  },
  {
   "cell_type": "code",
   "execution_count": null,
   "id": "03e3d63a",
   "metadata": {},
   "outputs": [],
   "source": []
  }
 ],
 "metadata": {
  "kernelspec": {
   "display_name": "Python 3 (ipykernel)",
   "language": "python",
   "name": "python3"
  },
  "language_info": {
   "codemirror_mode": {
    "name": "ipython",
    "version": 3
   },
   "file_extension": ".py",
   "mimetype": "text/x-python",
   "name": "python",
   "nbconvert_exporter": "python",
   "pygments_lexer": "ipython3",
   "version": "3.8.12"
  }
 },
 "nbformat": 4,
 "nbformat_minor": 5
}
