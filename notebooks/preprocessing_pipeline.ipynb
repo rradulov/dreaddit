{
 "cells": [
  {
   "cell_type": "code",
   "execution_count": 1,
   "id": "79b6eacc-036a-4670-9861-84ad7eef3cae",
   "metadata": {},
   "outputs": [],
   "source": [
    "import numpy as np\n",
    "import pandas as pd\n",
    "import matplotlib.pyplot as plt\n",
    "import seaborn as sns\n",
    "import datetime\n",
    "from scipy import stats\n",
    "\n",
    "import statsmodels.formula.api as smf\n",
    "import lxml\n",
    "\n",
    "pd.set_option('display.max_rows', 100)\n",
    "pd.set_option('display.max_columns', 100)\n",
    "# pd.options.display.float_format = '{:.4f}'.format"
   ]
  },
  {
   "cell_type": "code",
   "execution_count": 2,
   "id": "97e8009a-2d61-4051-a9a8-f45c52dfffe6",
   "metadata": {},
   "outputs": [],
   "source": [
    "def get_data():\n",
    "    \"\"\"method to get the data from CSVs\"\"\"\n",
    "\n",
    "    training_data = pd.read_csv(\"../raw_data/dreaddit-train.csv\")\n",
    "    test_data = pd.read_csv(\"../raw_data/dreaddit-test.csv\")\n",
    "\n",
    "    #print('success')\n",
    "\n",
    "    return training_data, test_data"
   ]
  },
  {
   "cell_type": "code",
   "execution_count": 3,
   "id": "cbf307bc-25ab-4eac-9318-769c2d41525d",
   "metadata": {},
   "outputs": [],
   "source": [
    "def clean_data(df):\n",
    "    cols_to_remove = ['syntax_ari',\n",
    "                   'syntax_fk_grade',\n",
    "                   'lex_dal_max_pleasantness',\n",
    "                   'lex_dal_max_activation',\n",
    "                   'lex_dal_max_imagery',\n",
    "                   'lex_dal_min_pleasantness',\n",
    "                   'lex_dal_min_activation',\n",
    "                   'lex_dal_min_imagery',\n",
    "                   'lex_dal_avg_activation',\n",
    "                   'lex_dal_avg_imagery',\n",
    "                   'lex_dal_avg_pleasantness',\n",
    "                   'sentiment',\n",
    "                   'post_id',\n",
    "                   'social_timestamp',\n",
    "                   'subreddit',\n",
    "                   'sentence_range']\n",
    "    df.drop(columns=cols_to_remove, inplace=True)\n",
    "    \n",
    "    rows_to_remove = df['text'].loc[df['text'].apply(lambda x: len(x)<35)].index.to_list()\n",
    "    \n",
    "    df.drop(labels=rows_to_remove, inplace=True)\n",
    "    \n",
    "    df['pct_caps'] = df['text'].apply(lambda x: sum([char.isupper() for char in x])/len(x))\n",
    "    df['text'] = df['text'].apply(lambda x: x.lower())\n",
    "    \n",
    "    df.set_index('id', inplace=True)\n",
    "    \n",
    "    df.drop(columns=['text'], inplace=True) #keeping this separate if anything changes and we need the text\n",
    "    \n",
    "    #adding the capping on social variables (social_karma, 'social_num_comments', \n",
    "    df['social_karma'] = df['social_karma'].apply(lambda x: 200 if x>200 else x)\n",
    "    df['social_num_comments'] = df['social_num_comments'].apply(lambda x: 100 if x>100 else x)\n",
    "    \n",
    "    return df"
   ]
  },
  {
   "cell_type": "code",
   "execution_count": 39,
   "id": "b6e91000-2ddb-4f51-a254-37a9b772ba3d",
   "metadata": {},
   "outputs": [
    {
     "data": {
      "text/plain": [
       "0       1\n",
       "1       0\n",
       "2       1\n",
       "3       1\n",
       "4       1\n",
       "       ..\n",
       "2833    0\n",
       "2834    1\n",
       "2835    0\n",
       "2836    0\n",
       "2837    1\n",
       "Name: label, Length: 2838, dtype: int64"
      ]
     },
     "execution_count": 39,
     "metadata": {},
     "output_type": "execute_result"
    }
   ],
   "source": [
    "training_data.pop('label')"
   ]
  },
  {
   "cell_type": "code",
   "execution_count": 41,
   "id": "426705a5-5171-411c-b8c7-5bdac69a2b81",
   "metadata": {},
   "outputs": [
    {
     "data": {
      "text/plain": [
       "(2838, 115)"
      ]
     },
     "execution_count": 41,
     "metadata": {},
     "output_type": "execute_result"
    }
   ],
   "source": [
    "training_data.shape"
   ]
  },
  {
   "cell_type": "code",
   "execution_count": 43,
   "id": "39ec164b-8dca-43b7-8e8f-54a39124285e",
   "metadata": {},
   "outputs": [
    {
     "data": {
      "text/plain": [
       "(2838, 116)"
      ]
     },
     "execution_count": 43,
     "metadata": {},
     "output_type": "execute_result"
    }
   ],
   "source": [
    "training_data.shape"
   ]
  },
  {
   "cell_type": "code",
   "execution_count": 42,
   "id": "44bfdc8d-eb59-4be4-b336-282acd25abdd",
   "metadata": {},
   "outputs": [],
   "source": [
    "training_data, test_data =  get_data()"
   ]
  },
  {
   "cell_type": "code",
   "execution_count": 5,
   "id": "c4144537-1cb5-43b9-a7e2-a8175b1c3953",
   "metadata": {},
   "outputs": [],
   "source": [
    "clean_train = clean_data(training_data)\n",
    "clean_test = clean_data(test_data)"
   ]
  },
  {
   "cell_type": "code",
   "execution_count": 6,
   "id": "a60cc286-a97f-4af3-b7ef-f57761543fca",
   "metadata": {},
   "outputs": [
    {
     "data": {
      "text/plain": [
       "((2833, 99), (715, 99))"
      ]
     },
     "execution_count": 6,
     "metadata": {},
     "output_type": "execute_result"
    }
   ],
   "source": [
    "clean_train.shape, clean_test.shape"
   ]
  },
  {
   "cell_type": "markdown",
   "id": "141d3c7b-139e-41a1-892b-21b176009302",
   "metadata": {},
   "source": [
    "### Preproc pipeline and feature selection"
   ]
  },
  {
   "cell_type": "markdown",
   "id": "98f87e03-d5e0-4ff8-8b38-40eb9a602e97",
   "metadata": {},
   "source": [
    "## Feature Selection"
   ]
  },
  {
   "cell_type": "code",
   "execution_count": 7,
   "id": "9c7311b2-3c2d-49ba-aad4-f30b32a1307e",
   "metadata": {},
   "outputs": [],
   "source": [
    "from sklearn.feature_selection import mutual_info_classif\n",
    "from statsmodels.stats.outliers_influence import variance_inflation_factor\n",
    "from sklearn.pipeline import Pipeline\n",
    "from sklearn.compose import ColumnTransformer\n",
    "from sklearn.preprocessing import MinMaxScaler\n",
    "\n",
    "scaler = MinMaxScaler()"
   ]
  },
  {
   "cell_type": "code",
   "execution_count": 8,
   "id": "f071d545-4c11-4590-b427-ba184d79f8da",
   "metadata": {},
   "outputs": [],
   "source": [
    "def calc_MI(df_clean):\n",
    "    \n",
    "    features = df_clean.drop(columns=['label','confidence'])\n",
    "    MI = mutual_info_classif(features, df_clean['label'])\n",
    "    headers = features.columns\n",
    "    MI_vars = pd.Series(index=headers, data=MI).sort_values(ascending=False)\n",
    "    MI_vars_selected = MI_vars[MI_vars>0]\n",
    "    \n",
    "    df_post_MI  = df_clean[MI_vars_selected.index.to_list()]\n",
    "    \n",
    "    return df_post_MI"
   ]
  },
  {
   "cell_type": "code",
   "execution_count": 9,
   "id": "f9f795d5-b0d2-453b-b7ae-330e92fd0d9d",
   "metadata": {},
   "outputs": [],
   "source": [
    "def calc_vif(df_post_MI):\n",
    "    vif = pd.DataFrame()\n",
    "    vif['variables'] = df_post_MI.columns\n",
    "    vif['VIF'] = [variance_inflation_factor(df_post_MI, i) for i in range(df_post_MI.shape[1])]\n",
    "    \n",
    "    VIF_df = vif[vif['VIF']<30].reset_index(drop=True)\n",
    "    \n",
    "    return VIF_df['variables'].to_list()"
   ]
  },
  {
   "cell_type": "code",
   "execution_count": 10,
   "id": "0e309a3b-2364-45d1-aaa7-d7f5ddd56ac9",
   "metadata": {},
   "outputs": [],
   "source": [
    "selected_features = calc_vif(calc_MI(clean_train))"
   ]
  },
  {
   "cell_type": "code",
   "execution_count": 12,
   "id": "92bc29c2-11b7-4de0-ae7b-ee2ad7501c33",
   "metadata": {},
   "outputs": [],
   "source": [
    "preproc_pipe = Pipeline([\n",
    "    ('feature_selector', ColumnTransformer([\n",
    "        ('feature_selector', 'passthrough', selected_features)\n",
    "    ], remainder='drop')),\n",
    "    \n",
    "    ('scaling', MinMaxScaler())\n",
    "])"
   ]
  },
  {
   "cell_type": "code",
   "execution_count": 13,
   "id": "fa787b4b-74b7-4c89-a7d8-1c4bda96ac71",
   "metadata": {},
   "outputs": [],
   "source": [
    "X_train = preproc_pipe.fit_transform(clean_train)"
   ]
  },
  {
   "cell_type": "code",
   "execution_count": 14,
   "id": "0e274243-9ffb-4749-a910-71cd75c6bef0",
   "metadata": {},
   "outputs": [],
   "source": [
    "X_test = preproc_pipe.transform(clean_test)"
   ]
  },
  {
   "cell_type": "code",
   "execution_count": 15,
   "id": "ceccc5fa-bbd9-4cf0-a042-8bdc4bfe9bd8",
   "metadata": {},
   "outputs": [],
   "source": [
    "# df_X_train_scaled = pd.DataFrame(columns = selected_features,\n",
    "#                                  data = X_train)\n",
    "# df_X_train_scaled.head(3)"
   ]
  },
  {
   "cell_type": "code",
   "execution_count": 16,
   "id": "0bd90ea3-6533-49f0-9982-9c0f68f9e16a",
   "metadata": {},
   "outputs": [],
   "source": [
    "# df_X_test_scaled = pd.DataFrame(columns = selected_features,\n",
    "#                                 data = X_test)\n",
    "# df_X_test_scaled.head(3)"
   ]
  },
  {
   "cell_type": "code",
   "execution_count": 17,
   "id": "63480bfc-debe-4c5f-9af8-942676a1d7de",
   "metadata": {},
   "outputs": [],
   "source": [
    "#df_X_train_scaled.shape, df_X_test_scaled.shape, len(selected_features)"
   ]
  },
  {
   "cell_type": "code",
   "execution_count": null,
   "id": "77708273-7fa5-4897-820a-07a3c36f7756",
   "metadata": {},
   "outputs": [],
   "source": []
  },
  {
   "cell_type": "code",
   "execution_count": null,
   "id": "1fae9d3e-fbb4-4648-810b-366214755fce",
   "metadata": {},
   "outputs": [],
   "source": []
  },
  {
   "cell_type": "code",
   "execution_count": 18,
   "id": "360bd4b2-bba2-49d2-aa0f-5efe74fae76e",
   "metadata": {},
   "outputs": [
    {
     "data": {
      "text/html": [
       "<div>\n",
       "<style scoped>\n",
       "    .dataframe tbody tr th:only-of-type {\n",
       "        vertical-align: middle;\n",
       "    }\n",
       "\n",
       "    .dataframe tbody tr th {\n",
       "        vertical-align: top;\n",
       "    }\n",
       "\n",
       "    .dataframe thead th {\n",
       "        text-align: right;\n",
       "    }\n",
       "</style>\n",
       "<table border=\"1\" class=\"dataframe\">\n",
       "  <thead>\n",
       "    <tr style=\"text-align: right;\">\n",
       "      <th></th>\n",
       "      <th>label</th>\n",
       "      <th>confidence</th>\n",
       "      <th>social_karma</th>\n",
       "      <th>lex_liwc_WC</th>\n",
       "      <th>lex_liwc_Analytic</th>\n",
       "      <th>lex_liwc_Clout</th>\n",
       "      <th>lex_liwc_Authentic</th>\n",
       "      <th>lex_liwc_Tone</th>\n",
       "      <th>lex_liwc_WPS</th>\n",
       "      <th>lex_liwc_Sixltr</th>\n",
       "      <th>lex_liwc_Dic</th>\n",
       "      <th>lex_liwc_function</th>\n",
       "      <th>lex_liwc_pronoun</th>\n",
       "      <th>lex_liwc_ppron</th>\n",
       "      <th>lex_liwc_i</th>\n",
       "      <th>lex_liwc_we</th>\n",
       "      <th>lex_liwc_you</th>\n",
       "      <th>lex_liwc_shehe</th>\n",
       "      <th>lex_liwc_they</th>\n",
       "      <th>lex_liwc_ipron</th>\n",
       "      <th>lex_liwc_article</th>\n",
       "      <th>lex_liwc_prep</th>\n",
       "      <th>lex_liwc_auxverb</th>\n",
       "      <th>lex_liwc_adverb</th>\n",
       "      <th>lex_liwc_conj</th>\n",
       "      <th>lex_liwc_negate</th>\n",
       "      <th>lex_liwc_verb</th>\n",
       "      <th>lex_liwc_adj</th>\n",
       "      <th>lex_liwc_compare</th>\n",
       "      <th>lex_liwc_interrog</th>\n",
       "      <th>lex_liwc_number</th>\n",
       "      <th>lex_liwc_quant</th>\n",
       "      <th>lex_liwc_affect</th>\n",
       "      <th>lex_liwc_posemo</th>\n",
       "      <th>lex_liwc_negemo</th>\n",
       "      <th>lex_liwc_anx</th>\n",
       "      <th>lex_liwc_anger</th>\n",
       "      <th>lex_liwc_sad</th>\n",
       "      <th>lex_liwc_social</th>\n",
       "      <th>lex_liwc_family</th>\n",
       "      <th>lex_liwc_friend</th>\n",
       "      <th>lex_liwc_female</th>\n",
       "      <th>lex_liwc_male</th>\n",
       "      <th>lex_liwc_cogproc</th>\n",
       "      <th>lex_liwc_insight</th>\n",
       "      <th>lex_liwc_cause</th>\n",
       "      <th>lex_liwc_discrep</th>\n",
       "      <th>lex_liwc_tentat</th>\n",
       "      <th>lex_liwc_certain</th>\n",
       "      <th>lex_liwc_differ</th>\n",
       "      <th>lex_liwc_percept</th>\n",
       "      <th>lex_liwc_see</th>\n",
       "      <th>lex_liwc_hear</th>\n",
       "      <th>lex_liwc_feel</th>\n",
       "      <th>lex_liwc_bio</th>\n",
       "      <th>lex_liwc_body</th>\n",
       "      <th>lex_liwc_health</th>\n",
       "      <th>lex_liwc_sexual</th>\n",
       "      <th>lex_liwc_ingest</th>\n",
       "      <th>lex_liwc_drives</th>\n",
       "      <th>lex_liwc_affiliation</th>\n",
       "      <th>lex_liwc_achieve</th>\n",
       "      <th>lex_liwc_power</th>\n",
       "      <th>lex_liwc_reward</th>\n",
       "      <th>lex_liwc_risk</th>\n",
       "      <th>lex_liwc_focuspast</th>\n",
       "      <th>lex_liwc_focuspresent</th>\n",
       "      <th>lex_liwc_focusfuture</th>\n",
       "      <th>lex_liwc_relativ</th>\n",
       "      <th>lex_liwc_motion</th>\n",
       "      <th>lex_liwc_space</th>\n",
       "      <th>lex_liwc_time</th>\n",
       "      <th>lex_liwc_work</th>\n",
       "      <th>lex_liwc_leisure</th>\n",
       "      <th>lex_liwc_home</th>\n",
       "      <th>lex_liwc_money</th>\n",
       "      <th>lex_liwc_relig</th>\n",
       "      <th>lex_liwc_death</th>\n",
       "      <th>lex_liwc_informal</th>\n",
       "      <th>lex_liwc_swear</th>\n",
       "      <th>lex_liwc_netspeak</th>\n",
       "      <th>lex_liwc_assent</th>\n",
       "      <th>lex_liwc_nonflu</th>\n",
       "      <th>lex_liwc_filler</th>\n",
       "      <th>lex_liwc_AllPunc</th>\n",
       "      <th>lex_liwc_Period</th>\n",
       "      <th>lex_liwc_Comma</th>\n",
       "      <th>lex_liwc_Colon</th>\n",
       "      <th>lex_liwc_SemiC</th>\n",
       "      <th>lex_liwc_QMark</th>\n",
       "      <th>lex_liwc_Exclam</th>\n",
       "      <th>lex_liwc_Dash</th>\n",
       "      <th>lex_liwc_Quote</th>\n",
       "      <th>lex_liwc_Apostro</th>\n",
       "      <th>lex_liwc_Parenth</th>\n",
       "      <th>lex_liwc_OtherP</th>\n",
       "      <th>social_upvote_ratio</th>\n",
       "      <th>social_num_comments</th>\n",
       "      <th>pct_caps</th>\n",
       "    </tr>\n",
       "    <tr>\n",
       "      <th>id</th>\n",
       "      <th></th>\n",
       "      <th></th>\n",
       "      <th></th>\n",
       "      <th></th>\n",
       "      <th></th>\n",
       "      <th></th>\n",
       "      <th></th>\n",
       "      <th></th>\n",
       "      <th></th>\n",
       "      <th></th>\n",
       "      <th></th>\n",
       "      <th></th>\n",
       "      <th></th>\n",
       "      <th></th>\n",
       "      <th></th>\n",
       "      <th></th>\n",
       "      <th></th>\n",
       "      <th></th>\n",
       "      <th></th>\n",
       "      <th></th>\n",
       "      <th></th>\n",
       "      <th></th>\n",
       "      <th></th>\n",
       "      <th></th>\n",
       "      <th></th>\n",
       "      <th></th>\n",
       "      <th></th>\n",
       "      <th></th>\n",
       "      <th></th>\n",
       "      <th></th>\n",
       "      <th></th>\n",
       "      <th></th>\n",
       "      <th></th>\n",
       "      <th></th>\n",
       "      <th></th>\n",
       "      <th></th>\n",
       "      <th></th>\n",
       "      <th></th>\n",
       "      <th></th>\n",
       "      <th></th>\n",
       "      <th></th>\n",
       "      <th></th>\n",
       "      <th></th>\n",
       "      <th></th>\n",
       "      <th></th>\n",
       "      <th></th>\n",
       "      <th></th>\n",
       "      <th></th>\n",
       "      <th></th>\n",
       "      <th></th>\n",
       "      <th></th>\n",
       "      <th></th>\n",
       "      <th></th>\n",
       "      <th></th>\n",
       "      <th></th>\n",
       "      <th></th>\n",
       "      <th></th>\n",
       "      <th></th>\n",
       "      <th></th>\n",
       "      <th></th>\n",
       "      <th></th>\n",
       "      <th></th>\n",
       "      <th></th>\n",
       "      <th></th>\n",
       "      <th></th>\n",
       "      <th></th>\n",
       "      <th></th>\n",
       "      <th></th>\n",
       "      <th></th>\n",
       "      <th></th>\n",
       "      <th></th>\n",
       "      <th></th>\n",
       "      <th></th>\n",
       "      <th></th>\n",
       "      <th></th>\n",
       "      <th></th>\n",
       "      <th></th>\n",
       "      <th></th>\n",
       "      <th></th>\n",
       "      <th></th>\n",
       "      <th></th>\n",
       "      <th></th>\n",
       "      <th></th>\n",
       "      <th></th>\n",
       "      <th></th>\n",
       "      <th></th>\n",
       "      <th></th>\n",
       "      <th></th>\n",
       "      <th></th>\n",
       "      <th></th>\n",
       "      <th></th>\n",
       "      <th></th>\n",
       "      <th></th>\n",
       "      <th></th>\n",
       "      <th></th>\n",
       "      <th></th>\n",
       "      <th></th>\n",
       "      <th></th>\n",
       "      <th></th>\n",
       "    </tr>\n",
       "  </thead>\n",
       "  <tbody>\n",
       "    <tr>\n",
       "      <th>33181</th>\n",
       "      <td>1</td>\n",
       "      <td>0.8</td>\n",
       "      <td>5</td>\n",
       "      <td>116</td>\n",
       "      <td>72.64</td>\n",
       "      <td>15.04</td>\n",
       "      <td>89.26</td>\n",
       "      <td>1.00</td>\n",
       "      <td>29.00</td>\n",
       "      <td>12.93</td>\n",
       "      <td>87.07</td>\n",
       "      <td>56.03</td>\n",
       "      <td>16.38</td>\n",
       "      <td>12.07</td>\n",
       "      <td>9.48</td>\n",
       "      <td>0.00</td>\n",
       "      <td>0.86</td>\n",
       "      <td>1.72</td>\n",
       "      <td>0.0</td>\n",
       "      <td>4.31</td>\n",
       "      <td>3.45</td>\n",
       "      <td>19.83</td>\n",
       "      <td>7.76</td>\n",
       "      <td>5.17</td>\n",
       "      <td>4.31</td>\n",
       "      <td>1.72</td>\n",
       "      <td>16.38</td>\n",
       "      <td>6.03</td>\n",
       "      <td>3.45</td>\n",
       "      <td>0.86</td>\n",
       "      <td>1.72</td>\n",
       "      <td>1.72</td>\n",
       "      <td>8.62</td>\n",
       "      <td>1.72</td>\n",
       "      <td>6.9</td>\n",
       "      <td>0.86</td>\n",
       "      <td>2.59</td>\n",
       "      <td>3.45</td>\n",
       "      <td>3.45</td>\n",
       "      <td>0.0</td>\n",
       "      <td>0.0</td>\n",
       "      <td>0.0</td>\n",
       "      <td>1.72</td>\n",
       "      <td>11.21</td>\n",
       "      <td>3.45</td>\n",
       "      <td>0.86</td>\n",
       "      <td>2.59</td>\n",
       "      <td>5.17</td>\n",
       "      <td>0.00</td>\n",
       "      <td>2.59</td>\n",
       "      <td>6.03</td>\n",
       "      <td>1.72</td>\n",
       "      <td>1.72</td>\n",
       "      <td>1.72</td>\n",
       "      <td>2.59</td>\n",
       "      <td>0.86</td>\n",
       "      <td>1.72</td>\n",
       "      <td>0.0</td>\n",
       "      <td>0.0</td>\n",
       "      <td>8.62</td>\n",
       "      <td>0.0</td>\n",
       "      <td>1.72</td>\n",
       "      <td>4.31</td>\n",
       "      <td>0.86</td>\n",
       "      <td>2.59</td>\n",
       "      <td>4.31</td>\n",
       "      <td>11.21</td>\n",
       "      <td>0.86</td>\n",
       "      <td>17.24</td>\n",
       "      <td>0.86</td>\n",
       "      <td>10.34</td>\n",
       "      <td>6.03</td>\n",
       "      <td>0.86</td>\n",
       "      <td>0.0</td>\n",
       "      <td>0.0</td>\n",
       "      <td>0.00</td>\n",
       "      <td>2.59</td>\n",
       "      <td>0.0</td>\n",
       "      <td>0.86</td>\n",
       "      <td>0.86</td>\n",
       "      <td>0.00</td>\n",
       "      <td>0.0</td>\n",
       "      <td>0.0</td>\n",
       "      <td>0.0</td>\n",
       "      <td>21.55</td>\n",
       "      <td>9.48</td>\n",
       "      <td>3.45</td>\n",
       "      <td>0.86</td>\n",
       "      <td>0.86</td>\n",
       "      <td>0.0</td>\n",
       "      <td>0.0</td>\n",
       "      <td>0.0</td>\n",
       "      <td>5.17</td>\n",
       "      <td>1.72</td>\n",
       "      <td>0.00</td>\n",
       "      <td>0.00</td>\n",
       "      <td>0.86</td>\n",
       "      <td>1</td>\n",
       "      <td>0.084063</td>\n",
       "    </tr>\n",
       "    <tr>\n",
       "      <th>2606</th>\n",
       "      <td>0</td>\n",
       "      <td>1.0</td>\n",
       "      <td>4</td>\n",
       "      <td>109</td>\n",
       "      <td>79.08</td>\n",
       "      <td>76.85</td>\n",
       "      <td>56.75</td>\n",
       "      <td>98.18</td>\n",
       "      <td>27.25</td>\n",
       "      <td>21.10</td>\n",
       "      <td>87.16</td>\n",
       "      <td>48.62</td>\n",
       "      <td>11.93</td>\n",
       "      <td>7.34</td>\n",
       "      <td>1.83</td>\n",
       "      <td>2.75</td>\n",
       "      <td>2.75</td>\n",
       "      <td>0.00</td>\n",
       "      <td>0.0</td>\n",
       "      <td>4.59</td>\n",
       "      <td>8.26</td>\n",
       "      <td>13.76</td>\n",
       "      <td>6.42</td>\n",
       "      <td>3.67</td>\n",
       "      <td>8.26</td>\n",
       "      <td>0.92</td>\n",
       "      <td>15.60</td>\n",
       "      <td>2.75</td>\n",
       "      <td>0.92</td>\n",
       "      <td>0.92</td>\n",
       "      <td>2.75</td>\n",
       "      <td>0.92</td>\n",
       "      <td>5.50</td>\n",
       "      <td>5.50</td>\n",
       "      <td>0.0</td>\n",
       "      <td>0.00</td>\n",
       "      <td>0.00</td>\n",
       "      <td>0.00</td>\n",
       "      <td>11.01</td>\n",
       "      <td>0.0</td>\n",
       "      <td>0.0</td>\n",
       "      <td>0.0</td>\n",
       "      <td>0.00</td>\n",
       "      <td>11.93</td>\n",
       "      <td>1.83</td>\n",
       "      <td>0.00</td>\n",
       "      <td>3.67</td>\n",
       "      <td>5.50</td>\n",
       "      <td>1.83</td>\n",
       "      <td>6.42</td>\n",
       "      <td>0.92</td>\n",
       "      <td>0.92</td>\n",
       "      <td>0.00</td>\n",
       "      <td>0.00</td>\n",
       "      <td>0.00</td>\n",
       "      <td>0.00</td>\n",
       "      <td>0.00</td>\n",
       "      <td>0.0</td>\n",
       "      <td>0.0</td>\n",
       "      <td>15.60</td>\n",
       "      <td>5.5</td>\n",
       "      <td>3.67</td>\n",
       "      <td>7.34</td>\n",
       "      <td>2.75</td>\n",
       "      <td>0.00</td>\n",
       "      <td>0.92</td>\n",
       "      <td>13.76</td>\n",
       "      <td>0.92</td>\n",
       "      <td>15.60</td>\n",
       "      <td>2.75</td>\n",
       "      <td>10.09</td>\n",
       "      <td>1.83</td>\n",
       "      <td>11.01</td>\n",
       "      <td>0.0</td>\n",
       "      <td>0.0</td>\n",
       "      <td>0.92</td>\n",
       "      <td>0.00</td>\n",
       "      <td>0.0</td>\n",
       "      <td>1.83</td>\n",
       "      <td>0.00</td>\n",
       "      <td>0.92</td>\n",
       "      <td>0.0</td>\n",
       "      <td>0.0</td>\n",
       "      <td>0.0</td>\n",
       "      <td>14.68</td>\n",
       "      <td>4.59</td>\n",
       "      <td>2.75</td>\n",
       "      <td>0.00</td>\n",
       "      <td>0.00</td>\n",
       "      <td>0.0</td>\n",
       "      <td>0.0</td>\n",
       "      <td>0.0</td>\n",
       "      <td>0.00</td>\n",
       "      <td>2.75</td>\n",
       "      <td>0.92</td>\n",
       "      <td>3.67</td>\n",
       "      <td>0.65</td>\n",
       "      <td>2</td>\n",
       "      <td>0.037415</td>\n",
       "    </tr>\n",
       "  </tbody>\n",
       "</table>\n",
       "</div>"
      ],
      "text/plain": [
       "       label  confidence  social_karma  lex_liwc_WC  lex_liwc_Analytic  \\\n",
       "id                                                                       \n",
       "33181      1         0.8             5          116              72.64   \n",
       "2606       0         1.0             4          109              79.08   \n",
       "\n",
       "       lex_liwc_Clout  lex_liwc_Authentic  lex_liwc_Tone  lex_liwc_WPS  \\\n",
       "id                                                                       \n",
       "33181           15.04               89.26           1.00         29.00   \n",
       "2606            76.85               56.75          98.18         27.25   \n",
       "\n",
       "       lex_liwc_Sixltr  lex_liwc_Dic  lex_liwc_function  lex_liwc_pronoun  \\\n",
       "id                                                                          \n",
       "33181            12.93         87.07              56.03             16.38   \n",
       "2606             21.10         87.16              48.62             11.93   \n",
       "\n",
       "       lex_liwc_ppron  lex_liwc_i  lex_liwc_we  lex_liwc_you  lex_liwc_shehe  \\\n",
       "id                                                                             \n",
       "33181           12.07        9.48         0.00          0.86            1.72   \n",
       "2606             7.34        1.83         2.75          2.75            0.00   \n",
       "\n",
       "       lex_liwc_they  lex_liwc_ipron  lex_liwc_article  lex_liwc_prep  \\\n",
       "id                                                                      \n",
       "33181            0.0            4.31              3.45          19.83   \n",
       "2606             0.0            4.59              8.26          13.76   \n",
       "\n",
       "       lex_liwc_auxverb  lex_liwc_adverb  lex_liwc_conj  lex_liwc_negate  \\\n",
       "id                                                                         \n",
       "33181              7.76             5.17           4.31             1.72   \n",
       "2606               6.42             3.67           8.26             0.92   \n",
       "\n",
       "       lex_liwc_verb  lex_liwc_adj  lex_liwc_compare  lex_liwc_interrog  \\\n",
       "id                                                                        \n",
       "33181          16.38          6.03              3.45               0.86   \n",
       "2606           15.60          2.75              0.92               0.92   \n",
       "\n",
       "       lex_liwc_number  lex_liwc_quant  lex_liwc_affect  lex_liwc_posemo  \\\n",
       "id                                                                         \n",
       "33181             1.72            1.72             8.62             1.72   \n",
       "2606              2.75            0.92             5.50             5.50   \n",
       "\n",
       "       lex_liwc_negemo  lex_liwc_anx  lex_liwc_anger  lex_liwc_sad  \\\n",
       "id                                                                   \n",
       "33181              6.9          0.86            2.59          3.45   \n",
       "2606               0.0          0.00            0.00          0.00   \n",
       "\n",
       "       lex_liwc_social  lex_liwc_family  lex_liwc_friend  lex_liwc_female  \\\n",
       "id                                                                          \n",
       "33181             3.45              0.0              0.0              0.0   \n",
       "2606             11.01              0.0              0.0              0.0   \n",
       "\n",
       "       lex_liwc_male  lex_liwc_cogproc  lex_liwc_insight  lex_liwc_cause  \\\n",
       "id                                                                         \n",
       "33181           1.72             11.21              3.45            0.86   \n",
       "2606            0.00             11.93              1.83            0.00   \n",
       "\n",
       "       lex_liwc_discrep  lex_liwc_tentat  lex_liwc_certain  lex_liwc_differ  \\\n",
       "id                                                                            \n",
       "33181              2.59             5.17              0.00             2.59   \n",
       "2606               3.67             5.50              1.83             6.42   \n",
       "\n",
       "       lex_liwc_percept  lex_liwc_see  lex_liwc_hear  lex_liwc_feel  \\\n",
       "id                                                                    \n",
       "33181              6.03          1.72           1.72           1.72   \n",
       "2606               0.92          0.92           0.00           0.00   \n",
       "\n",
       "       lex_liwc_bio  lex_liwc_body  lex_liwc_health  lex_liwc_sexual  \\\n",
       "id                                                                     \n",
       "33181          2.59           0.86             1.72              0.0   \n",
       "2606           0.00           0.00             0.00              0.0   \n",
       "\n",
       "       lex_liwc_ingest  lex_liwc_drives  lex_liwc_affiliation  \\\n",
       "id                                                              \n",
       "33181              0.0             8.62                   0.0   \n",
       "2606               0.0            15.60                   5.5   \n",
       "\n",
       "       lex_liwc_achieve  lex_liwc_power  lex_liwc_reward  lex_liwc_risk  \\\n",
       "id                                                                        \n",
       "33181              1.72            4.31             0.86           2.59   \n",
       "2606               3.67            7.34             2.75           0.00   \n",
       "\n",
       "       lex_liwc_focuspast  lex_liwc_focuspresent  lex_liwc_focusfuture  \\\n",
       "id                                                                       \n",
       "33181                4.31                  11.21                  0.86   \n",
       "2606                 0.92                  13.76                  0.92   \n",
       "\n",
       "       lex_liwc_relativ  lex_liwc_motion  lex_liwc_space  lex_liwc_time  \\\n",
       "id                                                                        \n",
       "33181             17.24             0.86           10.34           6.03   \n",
       "2606              15.60             2.75           10.09           1.83   \n",
       "\n",
       "       lex_liwc_work  lex_liwc_leisure  lex_liwc_home  lex_liwc_money  \\\n",
       "id                                                                      \n",
       "33181           0.86               0.0            0.0            0.00   \n",
       "2606           11.01               0.0            0.0            0.92   \n",
       "\n",
       "       lex_liwc_relig  lex_liwc_death  lex_liwc_informal  lex_liwc_swear  \\\n",
       "id                                                                         \n",
       "33181            2.59             0.0               0.86            0.86   \n",
       "2606             0.00             0.0               1.83            0.00   \n",
       "\n",
       "       lex_liwc_netspeak  lex_liwc_assent  lex_liwc_nonflu  lex_liwc_filler  \\\n",
       "id                                                                            \n",
       "33181               0.00              0.0              0.0              0.0   \n",
       "2606                0.92              0.0              0.0              0.0   \n",
       "\n",
       "       lex_liwc_AllPunc  lex_liwc_Period  lex_liwc_Comma  lex_liwc_Colon  \\\n",
       "id                                                                         \n",
       "33181             21.55             9.48            3.45            0.86   \n",
       "2606              14.68             4.59            2.75            0.00   \n",
       "\n",
       "       lex_liwc_SemiC  lex_liwc_QMark  lex_liwc_Exclam  lex_liwc_Dash  \\\n",
       "id                                                                      \n",
       "33181            0.86             0.0              0.0            0.0   \n",
       "2606             0.00             0.0              0.0            0.0   \n",
       "\n",
       "       lex_liwc_Quote  lex_liwc_Apostro  lex_liwc_Parenth  lex_liwc_OtherP  \\\n",
       "id                                                                           \n",
       "33181            5.17              1.72              0.00             0.00   \n",
       "2606             0.00              2.75              0.92             3.67   \n",
       "\n",
       "       social_upvote_ratio  social_num_comments  pct_caps  \n",
       "id                                                         \n",
       "33181                 0.86                    1  0.084063  \n",
       "2606                  0.65                    2  0.037415  "
      ]
     },
     "execution_count": 18,
     "metadata": {},
     "output_type": "execute_result"
    }
   ],
   "source": [
    "clean_train.head(2)"
   ]
  },
  {
   "cell_type": "markdown",
   "id": "dd667c23-14f1-487b-ad6a-ddf54d5e9557",
   "metadata": {
    "tags": []
   },
   "source": [
    "### Testing various ML models"
   ]
  },
  {
   "cell_type": "code",
   "execution_count": 19,
   "id": "7c149d27-4e8f-4ac8-b782-ea3d9a130da6",
   "metadata": {},
   "outputs": [],
   "source": [
    "#Train and test data set \n",
    "\n",
    "y_train = clean_train['label']\n",
    "\n",
    "y_test = clean_test['label']"
   ]
  },
  {
   "cell_type": "markdown",
   "id": "8b7a030d-73b7-48a9-a82e-44f2ea131b23",
   "metadata": {},
   "source": [
    "### Logistic Regression"
   ]
  },
  {
   "cell_type": "code",
   "execution_count": 20,
   "id": "b0a10411-27ac-4537-accd-8e488a01a223",
   "metadata": {},
   "outputs": [],
   "source": [
    "from sklearn.linear_model import LogisticRegression, Lasso, Ridge\n",
    "log_model = LogisticRegression(max_iter=1_000)"
   ]
  },
  {
   "cell_type": "code",
   "execution_count": 21,
   "id": "f54260c7-b133-43b7-a691-ebd5a3929bdb",
   "metadata": {},
   "outputs": [],
   "source": [
    "y_pred = log_model.fit(X_train,y_train).predict(X_test)"
   ]
  },
  {
   "cell_type": "code",
   "execution_count": 22,
   "id": "763effc4-d996-4dd7-be8f-6241db965bef",
   "metadata": {},
   "outputs": [
    {
     "data": {
      "text/plain": [
       "0.7398601398601399"
      ]
     },
     "execution_count": 22,
     "metadata": {},
     "output_type": "execute_result"
    }
   ],
   "source": [
    "log_model.score(X_test,y_test)"
   ]
  },
  {
   "cell_type": "code",
   "execution_count": 27,
   "id": "60a3728e-870e-4da6-a03d-960ab3550173",
   "metadata": {},
   "outputs": [
    {
     "name": "stderr",
     "output_type": "stream",
     "text": [
      "/Users/radulradulov/.pyenv/versions/3.8.12/envs/dreaddit/lib/python3.8/site-packages/sklearn/model_selection/_search.py:292: UserWarning: The total space of parameters 3 is smaller than n_iter=10. Running 3 iterations. For exhaustive searches, use GridSearchCV.\n",
      "  warnings.warn(\n"
     ]
    },
    {
     "data": {
      "text/plain": [
       "RandomizedSearchCV(cv=10, estimator=LogisticRegression(max_iter=1000),\n",
       "                   n_jobs=-1,\n",
       "                   param_distributions={'penalty': ['none'],\n",
       "                                        'solver': ['newton-cg', 'newton-cg',\n",
       "                                                   'lbfgs']},\n",
       "                   scoring='accuracy')"
      ]
     },
     "execution_count": 27,
     "metadata": {},
     "output_type": "execute_result"
    }
   ],
   "source": [
    "from sklearn.model_selection import GridSearchCV, RandomizedSearchCV\n",
    "grid_log_reg = {'penalty': ['none'], #['l1', 'l2', 'elasticnet', 'none'],\n",
    "                #'C':[0, 0.0001, 0.01, 1, 10, 100, 1000],\n",
    "                'solver':['newton-cg', 'newton-cg', 'lbfgs'] }  #, 'sag', 'saga']}\n",
    "\n",
    "log_search = RandomizedSearchCV(log_model, grid_log_reg, n_jobs=-1, cv=10, verbose=0, scoring='accuracy' )\n",
    "log_search.fit(X_train,y_train, sample_weight = clean_train['confidence']) "
   ]
  },
  {
   "cell_type": "code",
   "execution_count": 28,
   "id": "e764d7ef-b2d3-4d12-b4af-8634fb3139a0",
   "metadata": {},
   "outputs": [
    {
     "data": {
      "text/plain": [
       "LogisticRegression(max_iter=1000, penalty='none', solver='newton-cg')"
      ]
     },
     "execution_count": 28,
     "metadata": {},
     "output_type": "execute_result"
    }
   ],
   "source": [
    "log_search.best_estimator_"
   ]
  },
  {
   "cell_type": "code",
   "execution_count": 25,
   "id": "9db9f181-bba6-45ea-82d6-36df5b61403d",
   "metadata": {},
   "outputs": [
    {
     "data": {
      "text/plain": [
       "0.7451351216841686"
      ]
     },
     "execution_count": 25,
     "metadata": {},
     "output_type": "execute_result"
    }
   ],
   "source": [
    "log_search.best_score_"
   ]
  },
  {
   "cell_type": "code",
   "execution_count": 26,
   "id": "a5163f6e-0f91-4fd6-99e1-526b0ecdafb2",
   "metadata": {},
   "outputs": [
    {
     "data": {
      "text/plain": [
       "0.737062937062937"
      ]
     },
     "execution_count": 26,
     "metadata": {},
     "output_type": "execute_result"
    }
   ],
   "source": [
    "log_search.score(X_test, y_test)"
   ]
  },
  {
   "cell_type": "code",
   "execution_count": null,
   "id": "3c6b120c-4a3e-4bf0-9a17-950082b73722",
   "metadata": {},
   "outputs": [],
   "source": [
    "#Best model from the Grid Search\n",
    "#LogisticRegression(C=1e-05, max_iter=1000, penalty='none', solver='newton-cg')\n",
    "#0.7580419580419581"
   ]
  },
  {
   "cell_type": "code",
   "execution_count": null,
   "id": "014bc183-ca06-46fc-99c4-d852237853b1",
   "metadata": {},
   "outputs": [],
   "source": [
    "# from sklearn.feature_selection import SequentialFeatureSelector\n",
    "# selector = SequentialFeatureSelector(LogisticRegression(max_iter=1_000), cv=10, n_jobs=-1, direction='backward',\n",
    "#                                     n_features_to_select=0.6)\n",
    "# selector.fit(X_train, y_train)\n",
    "# selector.transform(X_train)\n",
    "# len(selector.get_feature_names_out())\n",
    "# X_train_selected = pd.DataFrame(columns = selector.get_feature_names_out(),\n",
    "#                                 index = X_train.index,\n",
    "#                                 data = selector.transform(X_train))\n",
    "# X_test_selected = X_test[selector.get_feature_names_out()]"
   ]
  },
  {
   "cell_type": "markdown",
   "id": "11aaec23-c715-4941-9b21-f8c5165de72c",
   "metadata": {},
   "source": [
    "### SVC"
   ]
  },
  {
   "cell_type": "code",
   "execution_count": null,
   "id": "6ba5f035-2460-48bb-a712-9bc5c7faac2c",
   "metadata": {},
   "outputs": [],
   "source": [
    "from sklearn.svm import SVC\n",
    "\n",
    "SVC_model = SVC()\n",
    "\n",
    "gird_SVC = {'kernel':['linear', 'poly', 'rbf', 'sigmoid'],\n",
    "            'C':stats.uniform(0.01,10),\n",
    "            'gamma':stats.loguniform(0.01,10)}"
   ]
  },
  {
   "cell_type": "code",
   "execution_count": null,
   "id": "36a1f6bc-aafd-460f-ba77-ef9a217592cd",
   "metadata": {},
   "outputs": [],
   "source": [
    "SVC_search = RandomizedSearchCV(SVC_model, gird_SVC, n_jobs=-1, cv=10, verbose=0, scoring='accuracy')\n",
    "SVC_search.fit(X_train,y_train, sample_weight = clean_train['confidence']) "
   ]
  },
  {
   "cell_type": "code",
   "execution_count": null,
   "id": "780cdf54-d400-44ac-ae95-20a3c5e8bb5e",
   "metadata": {},
   "outputs": [],
   "source": [
    "SVC_search.best_estimator_"
   ]
  },
  {
   "cell_type": "code",
   "execution_count": null,
   "id": "b4ad84b0-f99f-419b-ac9e-9c5ccc0ac5d1",
   "metadata": {},
   "outputs": [],
   "source": [
    "SVC_search.best_score_"
   ]
  },
  {
   "cell_type": "code",
   "execution_count": null,
   "id": "5ca6b656-fe9d-4f83-bd10-3f775a1905d7",
   "metadata": {},
   "outputs": [],
   "source": [
    "SVC_search.score(X_test, y_test)"
   ]
  },
  {
   "cell_type": "markdown",
   "id": "c4ab46af-3a62-4d6f-a16b-c5bf9daa5960",
   "metadata": {},
   "source": [
    "### KNN"
   ]
  },
  {
   "cell_type": "code",
   "execution_count": null,
   "id": "f466c185-7f6c-486c-88e4-780668fea8fd",
   "metadata": {},
   "outputs": [],
   "source": [
    "from sklearn.neighbors import KNeighborsClassifier"
   ]
  },
  {
   "cell_type": "code",
   "execution_count": null,
   "id": "221a960f-6382-40d4-b846-2856ec2fd010",
   "metadata": {},
   "outputs": [],
   "source": [
    "knn_model = KNeighborsClassifier()\n",
    "grid_knn = {'n_neighbors':[2,3,4,5,6,7,8,9,10,12,15,20,25]}"
   ]
  },
  {
   "cell_type": "code",
   "execution_count": null,
   "id": "5aaf5d84-9290-480a-9ca7-07ad55ebfd87",
   "metadata": {},
   "outputs": [],
   "source": [
    "knn_search =  RandomizedSearchCV(knn_model, grid_knn, cv=10, scoring='accuracy', verbose=1 )"
   ]
  },
  {
   "cell_type": "code",
   "execution_count": null,
   "id": "03662972-77ef-4e56-9bf6-9da4323c0233",
   "metadata": {},
   "outputs": [],
   "source": [
    "knn_search.fit(X_train,y_train) "
   ]
  },
  {
   "cell_type": "code",
   "execution_count": null,
   "id": "084b1ebd-387a-4328-b388-be2101e4e3bf",
   "metadata": {},
   "outputs": [],
   "source": [
    "knn_search.best_estimator_"
   ]
  },
  {
   "cell_type": "code",
   "execution_count": null,
   "id": "ffd19b90-2217-4a01-a315-5a5c1c926f86",
   "metadata": {},
   "outputs": [],
   "source": [
    "knn_search.best_score_"
   ]
  },
  {
   "cell_type": "code",
   "execution_count": null,
   "id": "ce0d04c9-2a6d-42dc-9ffa-4c40704b2266",
   "metadata": {},
   "outputs": [],
   "source": [
    "knn_search.score(X_test, y_test)"
   ]
  },
  {
   "cell_type": "markdown",
   "id": "1ab3654f-0690-47ba-bca8-76fa8cceab78",
   "metadata": {
    "tags": []
   },
   "source": [
    "### XGBoost"
   ]
  },
  {
   "cell_type": "code",
   "execution_count": null,
   "id": "287d9fee-2d35-420d-903d-8674e6112c22",
   "metadata": {},
   "outputs": [],
   "source": [
    "from xgboost import XGBClassifier\n",
    "model_xgb = XGBClassifier(use_label_encoder=False) #eval_metric='error')"
   ]
  },
  {
   "cell_type": "code",
   "execution_count": null,
   "id": "f33aead4-b42f-4289-9529-c8876ae1a460",
   "metadata": {},
   "outputs": [],
   "source": [
    "grid_xgboost = {'n_estimators':range(10,300,10) ,\n",
    "                'max_depth':[2,4,6,8,10,12,14,16,18,20],\n",
    "                'learning_rate': stats.loguniform(0.01,0.5),\n",
    "                'booster':['gbtree', 'gblinear', 'dart']\n",
    "               }\n",
    "\n",
    "search_xgboost = RandomizedSearchCV(model_xgb, grid_xgboost, cv=5,\n",
    "                                    scoring='accuracy', verbose=1,n_jobs=-1)\n",
    "\n"
   ]
  },
  {
   "cell_type": "code",
   "execution_count": null,
   "id": "2586bade-01b0-405d-b3a4-97dd87cad595",
   "metadata": {},
   "outputs": [],
   "source": [
    "search_xgboost.fit(X_train,y_train)"
   ]
  },
  {
   "cell_type": "code",
   "execution_count": null,
   "id": "ee626caf-c2bc-4f4c-babd-0e19cb777fd5",
   "metadata": {},
   "outputs": [],
   "source": [
    "search_xgboost.best_score_"
   ]
  },
  {
   "cell_type": "code",
   "execution_count": null,
   "id": "25ef942d-90c2-4d94-aa05-7a1fe5def596",
   "metadata": {},
   "outputs": [],
   "source": [
    "search_xgboost.best_estimator_"
   ]
  },
  {
   "cell_type": "code",
   "execution_count": null,
   "id": "2ff2f203-861f-4ad0-aa95-f1726869b7a7",
   "metadata": {},
   "outputs": [],
   "source": [
    "search_xgboost.score(X_test, y_test)"
   ]
  },
  {
   "cell_type": "markdown",
   "id": "b27359d7-c6e7-4411-8430-1f88f060c62c",
   "metadata": {
    "tags": []
   },
   "source": [
    "### AdaBoost"
   ]
  },
  {
   "cell_type": "code",
   "execution_count": null,
   "id": "2a9fe656-1342-4b79-bb9d-008a8fdfb6c3",
   "metadata": {},
   "outputs": [],
   "source": [
    "from sklearn.ensemble import AdaBoostClassifier  #,GradientBoostingClassifier\n",
    "ada_model = AdaBoostClassifier() #searching of the best estimator"
   ]
  },
  {
   "cell_type": "code",
   "execution_count": null,
   "id": "8db3bc24-4a71-479e-a00d-9fb2d7632a03",
   "metadata": {},
   "outputs": [],
   "source": [
    "gird_ada = {'base_estimator':[LogisticRegression(C=1000, max_iter=1000, penalty='none', solver='newton-cg')],  # GradientBoostingClassifier()],\n",
    "            'learning_rate': stats.loguniform(0.01,0.5)}"
   ]
  },
  {
   "cell_type": "code",
   "execution_count": null,
   "id": "aa2f487e-ae41-46bc-82cb-bfe14591dfdc",
   "metadata": {},
   "outputs": [],
   "source": [
    "search_ada = RandomizedSearchCV(ada_model, gird_ada, cv=10, scoring='accuracy', verbose=0 )"
   ]
  },
  {
   "cell_type": "code",
   "execution_count": null,
   "id": "0d94ebc2-75e1-46ba-af24-92fd89fe4d75",
   "metadata": {},
   "outputs": [],
   "source": [
    "search_ada.fit(X_train, y_train)"
   ]
  },
  {
   "cell_type": "code",
   "execution_count": null,
   "id": "4376b3e5-5e44-4852-9e7f-273df133a743",
   "metadata": {},
   "outputs": [],
   "source": [
    "search_ada.best_score_"
   ]
  },
  {
   "cell_type": "code",
   "execution_count": null,
   "id": "ad50588a-f624-413e-b157-a541cca0cbbb",
   "metadata": {},
   "outputs": [],
   "source": [
    "search_ada.best_estimator_"
   ]
  },
  {
   "cell_type": "code",
   "execution_count": null,
   "id": "6f73329d-94e1-46d0-8b77-39dcd28cdf40",
   "metadata": {},
   "outputs": [],
   "source": [
    "search_ada.score(X_test, y_test)"
   ]
  },
  {
   "cell_type": "markdown",
   "id": "7d687674-48a9-4003-8cc1-2efd0dcae5fc",
   "metadata": {},
   "source": [
    "### Gradient Boosting"
   ]
  },
  {
   "cell_type": "code",
   "execution_count": null,
   "id": "104d61d5-2e4b-402a-811d-e923787234f8",
   "metadata": {},
   "outputs": [],
   "source": [
    "from sklearn.ensemble import GradientBoostingClassifier\n",
    "gb_model = GradientBoostingClassifier()\n"
   ]
  },
  {
   "cell_type": "code",
   "execution_count": null,
   "id": "0a4c717b-e6a9-41f0-9202-abf9df923234",
   "metadata": {},
   "outputs": [],
   "source": [
    "gird_gb = {'n_estimators':range(10,300,10),\n",
    "           'learning_rate': stats.loguniform(0.01,0.5)}"
   ]
  },
  {
   "cell_type": "code",
   "execution_count": null,
   "id": "ba8396a6-a716-4394-9e67-27477623d9f4",
   "metadata": {},
   "outputs": [],
   "source": [
    "search_gb = RandomizedSearchCV(gb_model, gird_gb, cv=10, scoring='accuracy', verbose=1, n_jobs=-1, refit=True )"
   ]
  },
  {
   "cell_type": "code",
   "execution_count": null,
   "id": "33fa0295-a2e5-45c3-94f9-f6545acd0cb2",
   "metadata": {},
   "outputs": [],
   "source": [
    "search_gb.fit(X_train, y_train)"
   ]
  },
  {
   "cell_type": "code",
   "execution_count": null,
   "id": "ab396df8-e557-4a3a-aedd-d0991f214b33",
   "metadata": {},
   "outputs": [],
   "source": [
    "search_gb.best_score_"
   ]
  },
  {
   "cell_type": "code",
   "execution_count": null,
   "id": "82c708d2-4121-44ef-a151-90c3b3d0034f",
   "metadata": {},
   "outputs": [],
   "source": [
    "search_gb.best_estimator_"
   ]
  },
  {
   "cell_type": "code",
   "execution_count": null,
   "id": "8e8cade6-b223-41dd-b92f-56f3d848af1d",
   "metadata": {},
   "outputs": [],
   "source": [
    "search_gb.score(X_test, y_test)"
   ]
  },
  {
   "cell_type": "code",
   "execution_count": null,
   "id": "05f71212-f25a-408d-be41-01c94dd5bd43",
   "metadata": {},
   "outputs": [],
   "source": []
  },
  {
   "cell_type": "markdown",
   "id": "2f5ff330-02e9-493f-bdde-9645e38c3040",
   "metadata": {},
   "source": [
    "### Stacking Classifiers"
   ]
  },
  {
   "cell_type": "code",
   "execution_count": null,
   "id": "0f47daa2-2dde-4474-b654-d98b2ce1d6c8",
   "metadata": {},
   "outputs": [],
   "source": [
    "from sklearn.ensemble import StackingClassifier\n",
    "from sklearn.ensemble import VotingClassifier\n",
    "\n",
    "ensamble = StackingClassifier( \n",
    "    estimators=[('log_reg',log_search.best_estimator_), \n",
    "                ('svc', SVC_search.best_estimator_), \n",
    "                ('gb', search_gb.best_estimator_)], n_jobs=-1)\n",
    "    "
   ]
  },
  {
   "cell_type": "code",
   "execution_count": null,
   "id": "8fc75bbf-3fe0-4c0c-bd23-e5ad63c1cb75",
   "metadata": {},
   "outputs": [],
   "source": [
    "from sklearn.model_selection import cross_val_score\n",
    "ensamble_score = cross_val_score(ensamble, X_train, y_train, cv=10, scoring='accuracy', n_jobs=-1)"
   ]
  },
  {
   "cell_type": "code",
   "execution_count": null,
   "id": "b5e3d5c2-44a8-4bc7-87b9-9050cadc3cd1",
   "metadata": {},
   "outputs": [],
   "source": [
    "ensamble_score.mean()"
   ]
  },
  {
   "cell_type": "code",
   "execution_count": null,
   "id": "e5482855-de8c-4757-a4ce-7c1229ee669e",
   "metadata": {},
   "outputs": [],
   "source": [
    "ensamble.fit(X_train, y_train)"
   ]
  },
  {
   "cell_type": "code",
   "execution_count": null,
   "id": "a33a75b3-6b3e-4cd7-b794-713b9abbd6ab",
   "metadata": {},
   "outputs": [],
   "source": [
    "ensamble.score(X_test, y_test)"
   ]
  },
  {
   "cell_type": "code",
   "execution_count": null,
   "id": "16dfed52-38e8-4b9e-9ee1-1a1ad738286c",
   "metadata": {},
   "outputs": [],
   "source": [
    "from sklearn.ensemble import BaggingClassifier\n",
    "\n",
    "weak_learner = LogisticRegression() #log_search.best_estimator_\n",
    "bagged_model = BaggingClassifier(weak_learner, n_estimators=30, verbose=0)\n",
    "\n",
    "bagged_model.fit(X_train, y_train)\n",
    "bagged_model.score(X_test, y_test)"
   ]
  },
  {
   "cell_type": "code",
   "execution_count": null,
   "id": "16ea4ca3-e4ce-4ffb-8124-da1c44738d1f",
   "metadata": {},
   "outputs": [],
   "source": []
  },
  {
   "cell_type": "code",
   "execution_count": null,
   "id": "e897d9ee-ae31-45dd-8bfc-a1991860e076",
   "metadata": {},
   "outputs": [],
   "source": []
  }
 ],
 "metadata": {
  "kernelspec": {
   "display_name": "Python 3 (ipykernel)",
   "language": "python",
   "name": "python3"
  },
  "language_info": {
   "codemirror_mode": {
    "name": "ipython",
    "version": 3
   },
   "file_extension": ".py",
   "mimetype": "text/x-python",
   "name": "python",
   "nbconvert_exporter": "python",
   "pygments_lexer": "ipython3",
   "version": "3.8.12"
  }
 },
 "nbformat": 4,
 "nbformat_minor": 5
}
