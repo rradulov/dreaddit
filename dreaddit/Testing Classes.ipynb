{
 "cells": [
  {
   "cell_type": "code",
   "execution_count": 1,
   "id": "7061899f",
   "metadata": {},
   "outputs": [],
   "source": [
    "%load_ext autoreload\n",
    "%autoreload 2\n",
    "import numpy as np\n",
    "import pandas as pd\n",
    "\n",
    "from trainer import Trainer\n",
    "import data\n",
    "import utils\n",
    "from sklearn.svm import SVC\n",
    "from sklearn.pipeline import Pipeline\n",
    "\n",
    "from sklearn.svm import SVC\n",
    "from sklearn.ensemble import RandomForestClassifier, VotingClassifier, BaggingClassifier\n",
    "from sklearn.ensemble import GradientBoostingClassifier\n",
    "from sklearn.linear_model import LogisticRegression\n",
    "from sklearn.ensemble import StackingClassifier\n",
    "from sklearn.naive_bayes import MultinomialNB\n",
    "from sklearn.naive_bayes import GaussianNB\n",
    "from sklearn.discriminant_analysis import QuadraticDiscriminantAnalysis\n",
    "from sklearn.compose import ColumnTransformer\n",
    "from sklearn.preprocessing import MinMaxScaler"
   ]
  },
  {
   "cell_type": "code",
   "execution_count": 2,
   "id": "501b01bd",
   "metadata": {},
   "outputs": [],
   "source": [
    "training_data, test_data = data.get_data()\n",
    "\n",
    "training_data = data.clean_data(training_data)\n",
    "test_data = data.clean_data(test_data)\n",
    "\n",
    "y_train = training_data['label']\n",
    "X_train = training_data.drop(\"label\", axis=1)\n",
    "\n",
    "y_test = test_data['label']\n",
    "X_test = test_data.drop('label', axis=1)\n",
    "\n",
    "\n",
    "model = SVC(degree=2, gamma='scale', kernel='poly', coef0=5, probability=True)"
   ]
  },
  {
   "cell_type": "code",
   "execution_count": 3,
   "id": "a0a8cf8a",
   "metadata": {},
   "outputs": [],
   "source": [
    "trainer = Trainer(X_train=X_train,\n",
    "                  y_train=y_train,\n",
    "                  X_test=X_test,\n",
    "                  y_test=y_test,\n",
    "                  model = model)"
   ]
  },
  {
   "cell_type": "code",
   "execution_count": 4,
   "id": "3bd97a49",
   "metadata": {},
   "outputs": [
    {
     "name": "stdout",
     "output_type": "stream",
     "text": [
      "\u001b[32mmodel.joblib saved locally\u001b[0m\n"
     ]
    }
   ],
   "source": [
    "trainer.run()"
   ]
  },
  {
   "cell_type": "code",
   "execution_count": 5,
   "id": "6510997f",
   "metadata": {},
   "outputs": [
    {
     "data": {
      "text/plain": [
       "tuple"
      ]
     },
     "execution_count": 5,
     "metadata": {},
     "output_type": "execute_result"
    }
   ],
   "source": [
    "type(trainer.pipeline.get_params()['steps'][1])"
   ]
  },
  {
   "cell_type": "code",
   "execution_count": 6,
   "id": "fe96b7c6",
   "metadata": {},
   "outputs": [
    {
     "data": {
      "text/plain": [
       "('model', SVC(coef0=5, degree=2, kernel='poly', probability=True))"
      ]
     },
     "execution_count": 6,
     "metadata": {},
     "output_type": "execute_result"
    }
   ],
   "source": [
    "trainer.pipeline.get_params()['steps'][1]"
   ]
  },
  {
   "cell_type": "code",
   "execution_count": 7,
   "id": "6d2b223d",
   "metadata": {},
   "outputs": [
    {
     "data": {
      "text/plain": [
       "SVC(coef0=5, degree=2, kernel='poly', probability=True)"
      ]
     },
     "execution_count": 7,
     "metadata": {},
     "output_type": "execute_result"
    }
   ],
   "source": [
    "trainer.pipeline.get_params()['steps'][1][1]"
   ]
  },
  {
   "cell_type": "code",
   "execution_count": 8,
   "id": "6accacac",
   "metadata": {},
   "outputs": [
    {
     "data": {
      "text/plain": [
       "<bound method NDFrame.head of        confidence  social_karma  lex_liwc_WC  lex_liwc_Analytic  \\\n",
       "id                                                                \n",
       "33181    0.800000             5          116              72.64   \n",
       "2606     1.000000             4          109              79.08   \n",
       "38816    0.800000             2          167              33.80   \n",
       "239      0.600000             0          273               2.98   \n",
       "1421     0.800000            24           89              32.22   \n",
       "...           ...           ...          ...                ...   \n",
       "1713     1.000000            13           89              19.41   \n",
       "1133     1.000000            33          135              40.97   \n",
       "10442    1.000000             2          134              79.52   \n",
       "1834     0.571429             4           68              29.74   \n",
       "961      0.571429             2           57               1.00   \n",
       "\n",
       "       lex_liwc_Clout  lex_liwc_Authentic  lex_liwc_Tone  lex_liwc_WPS  \\\n",
       "id                                                                       \n",
       "33181           15.04               89.26           1.00         29.00   \n",
       "2606            76.85               56.75          98.18         27.25   \n",
       "38816           76.38               86.24          25.77         33.40   \n",
       "239             15.25               95.42          79.26         54.60   \n",
       "1421            28.71               84.01           1.00         17.80   \n",
       "...               ...                 ...            ...           ...   \n",
       "1713            99.00               37.57          99.00         17.80   \n",
       "1133             4.45               98.01           1.00         27.00   \n",
       "10442           97.34                2.27          80.01         22.33   \n",
       "1834            61.58               21.06          25.77         13.60   \n",
       "961             29.92               28.23           1.00         14.25   \n",
       "\n",
       "       lex_liwc_Sixltr  lex_liwc_Dic  ...  lex_liwc_QMark  lex_liwc_Exclam  \\\n",
       "id                                    ...                                    \n",
       "33181            12.93         87.07  ...            0.00              0.0   \n",
       "2606             21.10         87.16  ...            0.00              0.0   \n",
       "38816            17.37         91.02  ...            0.60              0.0   \n",
       "239               8.06         98.90  ...            0.00              0.0   \n",
       "1421             31.46         88.76  ...            0.00              0.0   \n",
       "...                ...           ...  ...             ...              ...   \n",
       "1713              5.62         97.75  ...            1.12              0.0   \n",
       "1133             17.78         96.30  ...            0.00              0.0   \n",
       "10442            25.37         84.33  ...            0.00              0.0   \n",
       "1834             16.18         92.65  ...            2.94              0.0   \n",
       "961               7.02         98.25  ...            0.00              0.0   \n",
       "\n",
       "       lex_liwc_Dash  lex_liwc_Quote  lex_liwc_Apostro  lex_liwc_Parenth  \\\n",
       "id                                                                         \n",
       "33181           0.00            5.17              1.72              0.00   \n",
       "2606            0.00            0.00              2.75              0.92   \n",
       "38816           0.00            2.40              1.80              0.00   \n",
       "239             0.00            1.47              0.00              0.73   \n",
       "1421            0.00            0.00              1.12              2.25   \n",
       "...              ...             ...               ...               ...   \n",
       "1713            0.00            0.00              1.12              4.49   \n",
       "1133            0.00            0.00              5.93              0.00   \n",
       "10442           0.75            0.00              1.49              1.49   \n",
       "1834            0.00            0.00              0.00              0.00   \n",
       "961             0.00            0.00              3.51              3.51   \n",
       "\n",
       "       lex_liwc_OtherP  social_upvote_ratio  social_num_comments  pct_caps  \n",
       "id                                                                          \n",
       "33181             0.00                 0.86                    1  0.084063  \n",
       "2606              3.67                 0.65                    2  0.037415  \n",
       "38816             0.00                 0.67                    0  0.012987  \n",
       "239               0.00                 0.50                    5  0.009397  \n",
       "1421              0.00                 1.00                    1  0.024390  \n",
       "...                ...                  ...                  ...       ...  \n",
       "1713              6.74                 0.84                   16  0.022831  \n",
       "1133              0.00                 0.96                    6  0.015110  \n",
       "10442             0.75                 1.00                    1  0.018868  \n",
       "1834              0.00                 0.75                    7  0.028169  \n",
       "961               0.00                 0.76                    2  0.041045  \n",
       "\n",
       "[2833 rows x 98 columns]>"
      ]
     },
     "execution_count": 8,
     "metadata": {},
     "output_type": "execute_result"
    }
   ],
   "source": [
    "X_train.head"
   ]
  },
  {
   "cell_type": "code",
   "execution_count": 9,
   "id": "2118fa7f",
   "metadata": {},
   "outputs": [],
   "source": [
    "training_data, test_data = data.get_data()\n",
    "\n",
    "#training_data = data.clean_data(training_data)\n",
    "#test_data = data.clean_data(test_data)\n",
    "\n",
    "y_train = training_data['label']\n",
    "X_train = training_data.drop(\"label\", axis=1)\n",
    "\n",
    "y_test = test_data['label']\n",
    "X_test = test_data.drop('label', axis=1)"
   ]
  },
  {
   "cell_type": "code",
   "execution_count": 10,
   "id": "6257aabc",
   "metadata": {},
   "outputs": [
    {
     "data": {
      "text/plain": [
       "0      Its like that, if you want or not.“ ME: I have...\n",
       "1      I man the front desk and my title is HR Custom...\n",
       "2      We'd be saving so much money with this new hou...\n",
       "3      My ex used to shoot back with \"Do you want me ...\n",
       "4      I haven’t said anything to him yet because I’m...\n",
       "                             ...                        \n",
       "710    i have horrible vivid nightmares every night. ...\n",
       "711    Also I can't think about both of them without ...\n",
       "712    Furthermore, I told him before we got really s...\n",
       "713    Here's the link to my amazon wish list where t...\n",
       "714    How can I keep us protected? They have already...\n",
       "Name: text, Length: 715, dtype: object"
      ]
     },
     "execution_count": 10,
     "metadata": {},
     "output_type": "execute_result"
    }
   ],
   "source": [
    "test_data.text"
   ]
  },
  {
   "cell_type": "code",
   "execution_count": 11,
   "id": "e9f4d749",
   "metadata": {},
   "outputs": [
    {
     "data": {
      "text/plain": [
       "'I man the front desk and my title is HR Customer Service Representative. About 50% of my job is spent onboarding new hires. Maybe 10% is clerical/paperwork. The rest is dealing with people who walk in and need help with benefits, retirement, etc. Although I am required to know the basics of our benefits plans and how the retirement and pension benefits work, many employees have questions beyond my knowledge base.'"
      ]
     },
     "execution_count": 11,
     "metadata": {},
     "output_type": "execute_result"
    }
   ],
   "source": [
    "columns = ['text','label']\n",
    "\n",
    "test_data[columns].iloc[1].text"
   ]
  },
  {
   "cell_type": "code",
   "execution_count": 91,
   "id": "3a157c5e",
   "metadata": {},
   "outputs": [],
   "source": [
    "from predict import Predictor"
   ]
  },
  {
   "cell_type": "code",
   "execution_count": 93,
   "id": "5d7df45a",
   "metadata": {},
   "outputs": [
    {
     "name": "stderr",
     "output_type": "stream",
     "text": [
      "/Users/jackmorrissey/code/rradulov/dreaddit/dreaddit/predict.py:40: SettingWithCopyWarning: \n",
      "A value is trying to be set on a copy of a slice from a DataFrame.\n",
      "Try using .loc[row_indexer,col_indexer] = value instead\n",
      "\n",
      "See the caveats in the documentation: https://pandas.pydata.org/pandas-docs/stable/user_guide/indexing.html#returning-a-view-versus-a-copy\n",
      "  self.output_df['residual'] = abs(self.output_df['y_true'] -\n"
     ]
    }
   ],
   "source": [
    "predict_class = Predictor();"
   ]
  },
  {
   "cell_type": "code",
   "execution_count": 94,
   "id": "84b0d66f",
   "metadata": {},
   "outputs": [
    {
     "data": {
      "text/plain": [
       "array([0, 0, 1, 1, 0, 0, 0, 1, 1, 0, 1, 1, 1, 1, 1, 0, 1, 1, 0, 0, 0, 0,\n",
       "       0, 1, 1, 0, 0, 0, 0, 0, 1, 0, 1, 1, 0, 0, 0, 1, 1, 0, 0, 1, 1, 1,\n",
       "       1, 0, 1, 0, 0, 1, 0, 1, 0, 1, 1, 1, 0, 0, 1, 0, 0, 0, 1, 0, 1, 0,\n",
       "       1, 0, 0, 1, 1, 1, 1, 1, 0, 0, 0, 0, 1, 0, 1, 0, 1, 0, 1, 0, 0, 1,\n",
       "       1, 0, 1, 0, 1, 1, 1, 0, 0, 1, 1, 0, 1, 0, 1, 0, 0, 1, 1, 1, 1, 0,\n",
       "       1, 0, 0, 1, 1, 0, 0, 0, 1, 1, 0, 1, 1, 0, 0, 0, 1, 0, 1, 0, 1, 1,\n",
       "       1, 1, 1, 1, 1, 1, 0, 1, 0, 1, 1, 1, 0, 0, 0, 1, 0, 1, 0, 1, 1, 0,\n",
       "       1, 1, 1, 0, 0, 1, 1, 1, 0, 1, 1, 0, 0, 0, 1, 0, 0, 0, 0, 1, 1, 1,\n",
       "       0, 1, 0, 1, 1, 1, 1, 1, 0, 0, 1, 0, 1, 0, 1, 1, 1, 1, 0, 1, 1, 0,\n",
       "       0, 0, 1, 1, 1, 0, 0, 0, 1, 1, 0, 1, 1, 1, 0, 1, 1, 1, 0, 0, 1, 0,\n",
       "       1, 1, 1, 1, 0, 1, 0, 0, 1, 1, 0, 1, 0, 0, 1, 1, 1, 0, 1, 1, 0, 0,\n",
       "       0, 0, 0, 1, 0, 0, 0, 1, 0, 0, 1, 1, 0, 0, 0, 1, 1, 0, 0, 0, 1, 1,\n",
       "       0, 1, 0, 1, 1, 0, 1, 1, 1, 1, 0, 0, 0, 0, 0, 0, 1, 1, 1, 0, 1, 1,\n",
       "       0, 0, 0, 0, 0, 1, 0, 0, 1, 1, 0, 1, 0, 1, 0, 0, 0, 0, 0, 0, 1, 1,\n",
       "       1, 1, 1, 0, 1, 1, 0, 1, 1, 0, 0, 1, 1, 1, 1, 1, 1, 1, 1, 1, 0, 0,\n",
       "       0, 1, 1, 0, 1, 1, 0, 1, 0, 1, 1, 0, 0, 0, 1, 0, 0, 0, 1, 0, 0, 0,\n",
       "       0, 1, 0, 0, 0, 0, 1, 1, 1, 0, 0, 1, 1, 1, 1, 1, 0, 0, 1, 1, 1, 1,\n",
       "       1, 1, 0, 0, 1, 1, 0, 0, 1, 1, 0, 1, 0, 0, 0, 1, 1, 0, 0, 0, 1, 1,\n",
       "       0, 1, 1, 1, 0, 0, 1, 0, 0, 0, 0, 0, 0, 0, 1, 1, 0, 0, 1, 1, 0, 1,\n",
       "       1, 0, 1, 1, 1, 1, 0, 0, 0, 1, 0, 0, 0, 0, 1, 0, 1, 1, 1, 1, 1, 0,\n",
       "       0, 1, 0, 1, 1, 0, 0, 0, 0, 1, 1, 1, 0, 0, 1, 1, 0, 0, 0, 0, 0, 1,\n",
       "       0, 1, 0, 1, 1, 1, 1, 1, 0, 0, 0, 0, 0, 1, 0, 1, 1, 1, 0, 0, 1, 1,\n",
       "       0, 1, 1, 0, 1, 0, 0, 1, 0, 1, 0, 1, 1, 1, 1, 1, 0, 0, 0, 1, 0, 0,\n",
       "       1, 1, 0, 1, 1, 1, 1, 0, 1, 0, 1, 1, 1, 1, 1, 1, 1, 0, 1, 0, 0, 1,\n",
       "       0, 1, 0, 1, 1, 1, 1, 0, 0, 1, 1, 1, 0, 1, 0, 0, 1, 0, 0, 0, 0, 0,\n",
       "       0, 0, 1, 0, 1, 1, 1, 1, 1, 1, 1, 0, 0, 1, 0, 1, 1, 1, 1, 1, 1, 0,\n",
       "       0, 1, 0, 0, 0, 0, 0, 1, 1, 0, 0, 0, 0, 0, 0, 0, 0, 0, 1, 1, 0, 1,\n",
       "       1, 1, 1, 0, 0, 1, 0, 0, 0, 0, 0, 1, 1, 1, 1, 1, 1, 1, 1, 1, 0, 1,\n",
       "       0, 1, 1, 1, 1, 0, 0, 1, 0, 0, 1, 0, 0, 0, 0, 0, 0, 0, 0, 0, 0, 0,\n",
       "       0, 1, 1, 1, 0, 1, 0, 1, 1, 1, 1, 0, 0, 0, 1, 0, 0, 0, 0, 1, 0, 0,\n",
       "       1, 1, 0, 1, 0, 1, 1, 1, 0, 1, 1, 0, 0, 1, 0, 1, 1, 1, 0, 0, 1, 1,\n",
       "       1, 1, 0, 0, 1, 0, 1, 1, 1, 1, 0, 0, 0, 1, 1, 0, 1, 1, 1, 0, 0, 0,\n",
       "       0, 0, 1, 0, 0, 1, 1, 1, 1, 0, 1])"
      ]
     },
     "execution_count": 94,
     "metadata": {},
     "output_type": "execute_result"
    }
   ],
   "source": [
    "predict_class.y_true"
   ]
  },
  {
   "cell_type": "code",
   "execution_count": 95,
   "id": "b77f4b3d",
   "metadata": {},
   "outputs": [
    {
     "data": {
      "text/plain": [
       "array([0, 0, 1, 1, 1, 0, 0, 1, 1, 0, 1, 0, 1, 1, 1, 0, 1, 0, 1, 1, 0, 0,\n",
       "       1, 1, 1, 0, 0, 0, 0, 0, 1, 0, 1, 0, 0, 0, 0, 1, 1, 0, 0, 1, 1, 1,\n",
       "       1, 0, 1, 1, 0, 1, 1, 1, 1, 0, 1, 1, 1, 0, 1, 1, 1, 1, 1, 0, 1, 0,\n",
       "       1, 0, 0, 1, 0, 1, 1, 1, 1, 0, 0, 1, 1, 0, 1, 0, 1, 0, 0, 1, 1, 1,\n",
       "       1, 1, 1, 1, 1, 1, 0, 1, 0, 1, 1, 0, 1, 0, 1, 0, 0, 0, 0, 1, 1, 0,\n",
       "       1, 1, 1, 1, 1, 0, 0, 0, 1, 1, 0, 1, 1, 0, 1, 0, 1, 1, 1, 1, 1, 0,\n",
       "       1, 1, 1, 1, 1, 1, 0, 0, 1, 1, 1, 1, 0, 0, 0, 1, 1, 1, 1, 0, 1, 0,\n",
       "       1, 1, 1, 0, 0, 0, 0, 0, 0, 0, 1, 1, 1, 0, 1, 0, 1, 0, 1, 0, 0, 0,\n",
       "       1, 0, 1, 1, 1, 0, 1, 0, 1, 0, 1, 0, 1, 0, 1, 1, 1, 1, 1, 0, 1, 1,\n",
       "       1, 0, 1, 1, 1, 0, 0, 1, 0, 1, 0, 1, 1, 0, 0, 1, 1, 1, 1, 1, 1, 0,\n",
       "       1, 1, 1, 1, 0, 0, 1, 0, 0, 1, 0, 1, 0, 0, 1, 1, 1, 0, 1, 1, 0, 1,\n",
       "       1, 0, 0, 1, 1, 0, 0, 1, 0, 0, 1, 1, 1, 0, 1, 0, 1, 0, 0, 1, 0, 1,\n",
       "       0, 1, 0, 1, 1, 1, 0, 0, 1, 0, 0, 0, 1, 1, 0, 0, 1, 1, 1, 0, 1, 1,\n",
       "       0, 0, 0, 0, 0, 0, 0, 0, 1, 1, 0, 1, 0, 1, 0, 0, 0, 0, 0, 0, 1, 1,\n",
       "       1, 1, 1, 1, 1, 1, 1, 1, 1, 1, 1, 1, 1, 1, 0, 1, 0, 1, 1, 1, 0, 0,\n",
       "       1, 1, 0, 0, 1, 1, 0, 1, 0, 1, 1, 0, 0, 0, 1, 0, 1, 0, 1, 1, 1, 0,\n",
       "       0, 1, 0, 0, 1, 0, 1, 0, 1, 0, 1, 1, 0, 1, 1, 1, 1, 1, 1, 1, 1, 1,\n",
       "       1, 1, 1, 0, 1, 1, 0, 0, 1, 1, 0, 1, 0, 0, 0, 0, 1, 0, 0, 0, 1, 1,\n",
       "       0, 0, 1, 1, 0, 0, 1, 0, 1, 0, 1, 1, 0, 0, 1, 1, 1, 0, 1, 1, 1, 1,\n",
       "       0, 0, 0, 1, 0, 0, 1, 1, 1, 1, 1, 0, 0, 0, 1, 0, 1, 0, 1, 1, 0, 1,\n",
       "       0, 1, 0, 1, 1, 0, 0, 0, 0, 1, 1, 1, 1, 0, 1, 0, 0, 0, 0, 0, 0, 0,\n",
       "       0, 1, 1, 1, 1, 1, 1, 1, 1, 1, 0, 0, 0, 1, 1, 1, 1, 1, 1, 0, 1, 1,\n",
       "       1, 1, 1, 1, 1, 0, 0, 1, 0, 1, 1, 1, 1, 1, 1, 1, 0, 1, 0, 1, 0, 0,\n",
       "       1, 0, 1, 1, 1, 0, 1, 0, 1, 1, 0, 1, 1, 0, 1, 1, 1, 0, 1, 0, 1, 1,\n",
       "       0, 1, 0, 0, 1, 1, 0, 1, 0, 1, 1, 1, 1, 1, 0, 1, 1, 0, 0, 1, 1, 1,\n",
       "       0, 0, 0, 0, 1, 1, 1, 0, 1, 1, 1, 1, 0, 0, 1, 0, 0, 1, 1, 1, 1, 0,\n",
       "       0, 1, 0, 1, 0, 1, 0, 1, 1, 0, 0, 1, 1, 0, 1, 0, 1, 0, 1, 1, 1, 1,\n",
       "       1, 1, 1, 1, 1, 1, 0, 0, 1, 0, 1, 1, 1, 0, 1, 1, 1, 1, 1, 1, 0, 1,\n",
       "       0, 1, 1, 1, 1, 0, 1, 0, 0, 0, 1, 0, 0, 0, 0, 1, 0, 1, 1, 1, 0, 0,\n",
       "       0, 0, 1, 1, 0, 1, 0, 1, 1, 0, 1, 1, 0, 1, 1, 0, 0, 0, 0, 0, 0, 0,\n",
       "       0, 1, 1, 1, 0, 1, 1, 1, 0, 0, 1, 1, 1, 1, 0, 1, 0, 1, 0, 0, 0, 1,\n",
       "       1, 1, 1, 0, 1, 1, 0, 1, 1, 1, 0, 0, 0, 1, 1, 0, 1, 1, 1, 1, 0, 0,\n",
       "       0, 0, 0, 0, 1, 1, 1, 0, 1, 0, 1])"
      ]
     },
     "execution_count": 95,
     "metadata": {},
     "output_type": "execute_result"
    }
   ],
   "source": [
    "predict_class.y_pred"
   ]
  },
  {
   "cell_type": "code",
   "execution_count": 96,
   "id": "8add8dcc",
   "metadata": {},
   "outputs": [],
   "source": [
    "accuracy = (predict_class.y_pred == predict_class.y_true).sum() / len(predict_class.y_pred)"
   ]
  },
  {
   "cell_type": "code",
   "execution_count": 97,
   "id": "33f13505",
   "metadata": {},
   "outputs": [
    {
     "data": {
      "text/plain": [
       "0.7356643356643356"
      ]
     },
     "execution_count": 97,
     "metadata": {},
     "output_type": "execute_result"
    }
   ],
   "source": [
    "accuracy"
   ]
  },
  {
   "cell_type": "code",
   "execution_count": 72,
   "id": "29cf6baf",
   "metadata": {},
   "outputs": [
    {
     "data": {
      "text/plain": [
       "1"
      ]
     },
     "execution_count": 72,
     "metadata": {},
     "output_type": "execute_result"
    }
   ],
   "source": [
    "predict_class.y_pred[2]"
   ]
  },
  {
   "cell_type": "code",
   "execution_count": 73,
   "id": "c33f673c",
   "metadata": {},
   "outputs": [
    {
     "data": {
      "text/plain": [
       "1"
      ]
     },
     "execution_count": 73,
     "metadata": {},
     "output_type": "execute_result"
    }
   ],
   "source": [
    "predict_class.y_true[2]"
   ]
  },
  {
   "cell_type": "code",
   "execution_count": 98,
   "id": "188a9cd1",
   "metadata": {},
   "outputs": [
    {
     "data": {
      "text/plain": [
       "Index(['text', 'predict_proba', 'y_pred', 'y_true', 'residual'], dtype='object')"
      ]
     },
     "execution_count": 98,
     "metadata": {},
     "output_type": "execute_result"
    }
   ],
   "source": [
    "predict_class.output_df.columns"
   ]
  },
  {
   "cell_type": "code",
   "execution_count": 102,
   "id": "e5102e59",
   "metadata": {},
   "outputs": [],
   "source": [
    "residuals = predict_class.output_df.residual"
   ]
  },
  {
   "cell_type": "code",
   "execution_count": 104,
   "id": "582fe70b",
   "metadata": {},
   "outputs": [
    {
     "data": {
      "text/plain": [
       "<AxesSubplot:xlabel='residual', ylabel='Count'>"
      ]
     },
     "execution_count": 104,
     "metadata": {},
     "output_type": "execute_result"
    },
    {
     "data": {
      "image/png": "[encoded data removed]",
      "text/plain": [
       "<Figure size 432x288 with 1 Axes>"
      ]
     },
     "metadata": {
      "needs_background": "light"
     },
     "output_type": "display_data"
    }
   ],
   "source": [
    "import seaborn as sns\n",
    "from matplotlib import pyplot as plt\n",
    "\n",
    "sns.histplot(residuals, bins=20)"
   ]
  },
  {
   "cell_type": "code",
   "execution_count": 90,
   "id": "86298bf1",
   "metadata": {},
   "outputs": [
    {
     "data": {
      "text/plain": [
       "'You were so kind, thoughtful, and helpful. And right. I felt so exposed and vulnerable that I forgot a few things: my husband has *never* done something he knew would hurt me. More importantly, when I am not ok, he isn’t either, even though it doesn’t show. I don’t have a family of my own that I can trust, and it sucks.'"
      ]
     },
     "execution_count": 90,
     "metadata": {},
     "output_type": "execute_result"
    }
   ],
   "source": [
    "df.iloc[672].text"
   ]
  },
  {
   "cell_type": "code",
   "execution_count": null,
   "id": "ffb4f243",
   "metadata": {},
   "outputs": [],
   "source": []
  }
 ],
 "metadata": {
  "kernelspec": {
   "display_name": "Python 3 (ipykernel)",
   "language": "python",
   "name": "python3"
  },
  "language_info": {
   "codemirror_mode": {
    "name": "ipython",
    "version": 3
   },
   "file_extension": ".py",
   "mimetype": "text/x-python",
   "name": "python",
   "nbconvert_exporter": "python",
   "pygments_lexer": "ipython3",
   "version": "3.8.12"
  }
 },
 "nbformat": 4,
 "nbformat_minor": 5
}
