{
 "cells": [
  {
   "cell_type": "code",
   "execution_count": 1,
   "id": "7061899f",
   "metadata": {},
   "outputs": [],
   "source": [
    "%load_ext autoreload\n",
    "%autoreload 2\n",
    "import numpy as np\n",
    "import pandas as pd\n",
    "\n",
    "from trainer import Trainer\n",
    "import data\n",
    "import utils\n",
    "from sklearn.svm import SVC\n",
    "from sklearn.pipeline import Pipeline\n",
    "\n",
    "from sklearn.svm import SVC\n",
    "from sklearn.ensemble import RandomForestClassifier, VotingClassifier, BaggingClassifier\n",
    "from sklearn.ensemble import GradientBoostingClassifier\n",
    "from sklearn.linear_model import LogisticRegression\n",
    "from sklearn.ensemble import StackingClassifier\n",
    "from sklearn.naive_bayes import MultinomialNB\n",
    "from sklearn.naive_bayes import GaussianNB\n",
    "from sklearn.discriminant_analysis import QuadraticDiscriminantAnalysis\n",
    "from sklearn.compose import ColumnTransformer\n",
    "from sklearn.preprocessing import MinMaxScaler"
   ]
  },
  {
   "cell_type": "code",
   "execution_count": 2,
   "id": "844a3f42",
   "metadata": {},
   "outputs": [],
   "source": [
    "#!python trainer.py"
   ]
  },
  {
   "cell_type": "code",
   "execution_count": 3,
   "id": "3a157c5e",
   "metadata": {},
   "outputs": [],
   "source": [
    "from predict import Predictor"
   ]
  },
  {
   "cell_type": "code",
   "execution_count": 4,
   "id": "5d7df45a",
   "metadata": {},
   "outputs": [
    {
     "name": "stderr",
     "output_type": "stream",
     "text": [
      "/Users/jackmorrissey/code/rradulov/dreaddit/dreaddit/predict.py:45: SettingWithCopyWarning: \n",
      "A value is trying to be set on a copy of a slice from a DataFrame.\n",
      "Try using .loc[row_indexer,col_indexer] = value instead\n",
      "\n",
      "See the caveats in the documentation: https://pandas.pydata.org/pandas-docs/stable/user_guide/indexing.html#returning-a-view-versus-a-copy\n",
      "  self.output_df['residual'] = abs(self.output_df['y_true'] -\n"
     ]
    }
   ],
   "source": [
    "predict_class = Predictor();"
   ]
  },
  {
   "cell_type": "code",
   "execution_count": 5,
   "id": "8add8dcc",
   "metadata": {},
   "outputs": [],
   "source": [
    "accuracy = round((predict_class.y_pred == predict_class.y_true).sum() / len(predict_class.y_pred),3)"
   ]
  },
  {
   "cell_type": "code",
   "execution_count": 6,
   "id": "33f13505",
   "metadata": {},
   "outputs": [
    {
     "data": {
      "text/plain": [
       "0.762"
      ]
     },
     "execution_count": 6,
     "metadata": {},
     "output_type": "execute_result"
    }
   ],
   "source": [
    "accuracy"
   ]
  },
  {
   "cell_type": "code",
   "execution_count": 7,
   "id": "e5102e59",
   "metadata": {},
   "outputs": [],
   "source": [
    "residuals = predict_class.output_df.residual"
   ]
  },
  {
   "cell_type": "code",
   "execution_count": 8,
   "id": "582fe70b",
   "metadata": {},
   "outputs": [
    {
     "data": {
      "image/png": "[encoded data removed]",
      "text/plain": [
       "<Figure size 432x288 with 1 Axes>"
      ]
     },
     "metadata": {
      "needs_background": "light"
     },
     "output_type": "display_data"
    }
   ],
   "source": [
    "import seaborn as sns\n",
    "from matplotlib import pyplot as plt\n",
    "\n",
    "sns.histplot(residuals, bins=16);"
   ]
  },
  {
   "cell_type": "markdown",
   "id": "8c51e2aa",
   "metadata": {},
   "source": [
    "# Confusion Matrix:"
   ]
  },
  {
   "cell_type": "markdown",
   "id": "4814322e",
   "metadata": {},
   "source": [
    "The model was best at classifying stressed people correctly (81%), but only 71% accurate at classifying unstressed people."
   ]
  },
  {
   "cell_type": "code",
   "execution_count": 9,
   "id": "6977720a",
   "metadata": {},
   "outputs": [
    {
     "data": {
      "text/plain": [
       "<sklearn.metrics._plot.confusion_matrix.ConfusionMatrixDisplay at 0x150de4580>"
      ]
     },
     "execution_count": 9,
     "metadata": {},
     "output_type": "execute_result"
    },
    {
     "data": {
      "image/png": "[encoded data removed]",
      "text/plain": [
       "<Figure size 432x288 with 2 Axes>"
      ]
     },
     "metadata": {
      "needs_background": "light"
     },
     "output_type": "display_data"
    }
   ],
   "source": [
    "from sklearn.metrics import confusion_matrix, ConfusionMatrixDisplay\n",
    "cm = confusion_matrix(predict_class.y_true, predict_class.y_pred, labels=[0,1],normalize='true')\n",
    "disp = ConfusionMatrixDisplay(confusion_matrix=cm, display_labels=[0,1])\n",
    "disp.plot()"
   ]
  },
  {
   "cell_type": "markdown",
   "id": "00cc8f0f",
   "metadata": {},
   "source": [
    "# Analysis of the biggest residuals:"
   ]
  },
  {
   "cell_type": "markdown",
   "id": "a8c267f7",
   "metadata": {},
   "source": [
    "## Where: Residual = ABS(Predict_Proba - Y_true)"
   ]
  },
  {
   "cell_type": "code",
   "execution_count": 10,
   "id": "4cf458ab",
   "metadata": {},
   "outputs": [
    {
     "data": {
      "text/html": [
       "<div>\n",
       "<style scoped>\n",
       "    .dataframe tbody tr th:only-of-type {\n",
       "        vertical-align: middle;\n",
       "    }\n",
       "\n",
       "    .dataframe tbody tr th {\n",
       "        vertical-align: top;\n",
       "    }\n",
       "\n",
       "    .dataframe thead th {\n",
       "        text-align: right;\n",
       "    }\n",
       "</style>\n",
       "<table border=\"1\" class=\"dataframe\">\n",
       "  <thead>\n",
       "    <tr style=\"text-align: right;\">\n",
       "      <th></th>\n",
       "      <th>text</th>\n",
       "      <th>predict_proba</th>\n",
       "      <th>y_pred</th>\n",
       "      <th>y_true</th>\n",
       "      <th>confidence</th>\n",
       "      <th>residual</th>\n",
       "    </tr>\n",
       "  </thead>\n",
       "  <tbody>\n",
       "    <tr>\n",
       "      <th>322</th>\n",
       "      <td>Then I came home.      My Mom pointed it out f...</td>\n",
       "      <td>0.120120</td>\n",
       "      <td>0</td>\n",
       "      <td>1</td>\n",
       "      <td>1.0</td>\n",
       "      <td>0.879880</td>\n",
       "    </tr>\n",
       "    <tr>\n",
       "      <th>476</th>\n",
       "      <td>I always have to touch my face and trace my fi...</td>\n",
       "      <td>0.821563</td>\n",
       "      <td>1</td>\n",
       "      <td>0</td>\n",
       "      <td>1.0</td>\n",
       "      <td>0.821563</td>\n",
       "    </tr>\n",
       "    <tr>\n",
       "      <th>597</th>\n",
       "      <td>Wrote this in about three minutes today. I nee...</td>\n",
       "      <td>0.783672</td>\n",
       "      <td>1</td>\n",
       "      <td>0</td>\n",
       "      <td>1.0</td>\n",
       "      <td>0.783672</td>\n",
       "    </tr>\n",
       "  </tbody>\n",
       "</table>\n",
       "</div>"
      ],
      "text/plain": [
       "                                                  text  predict_proba  y_pred  \\\n",
       "322  Then I came home.      My Mom pointed it out f...       0.120120       0   \n",
       "476  I always have to touch my face and trace my fi...       0.821563       1   \n",
       "597  Wrote this in about three minutes today. I nee...       0.783672       1   \n",
       "\n",
       "     y_true  confidence  residual  \n",
       "322       1         1.0  0.879880  \n",
       "476       0         1.0  0.821563  \n",
       "597       0         1.0  0.783672  "
      ]
     },
     "execution_count": 10,
     "metadata": {},
     "output_type": "execute_result"
    }
   ],
   "source": [
    "predict_class.cleaned_output_df.sort_values(by=['confidence','residual'],ascending=False).head(3)"
   ]
  },
  {
   "cell_type": "code",
   "execution_count": 11,
   "id": "ffb4f243",
   "metadata": {},
   "outputs": [
    {
     "data": {
      "text/plain": [
       "'Then I came home.      My Mom pointed it out first, I went from being the class clown and the life of the party, to being the quiet guy who stood in the corner of the room. I went from a musician and avid gamer, to having no interest in any of it, and no replacement hobby. The things I had the most passion for in life were gone. It was like someone removed one of my five senses and my soul at the same time.'"
      ]
     },
     "execution_count": 11,
     "metadata": {},
     "output_type": "execute_result"
    }
   ],
   "source": [
    "predict_class.cleaned_output_df.loc[322].text"
   ]
  },
  {
   "cell_type": "code",
   "execution_count": 12,
   "id": "cc702411",
   "metadata": {},
   "outputs": [
    {
     "data": {
      "text/plain": [
       "\"Wrote this in about three minutes today. I need to work some things out but it is crazy how much writing has helped me in the past three and a half months. My therapist credits my journaling to the progress I am continuing to make. I want to send my thoughts to everyone posting on this sub, I am strong not only for myself but for you. Being in a toxic relationship is so isolating you don't even realize how many people feel hopeless and desperate for change.\""
      ]
     },
     "execution_count": 12,
     "metadata": {},
     "output_type": "execute_result"
    }
   ],
   "source": [
    "predict_class.cleaned_output_df.loc[597].text"
   ]
  },
  {
   "cell_type": "markdown",
   "id": "f989fd93",
   "metadata": {},
   "source": [
    "# Analysis of the best predictions:"
   ]
  },
  {
   "cell_type": "code",
   "execution_count": 13,
   "id": "e910f9dc",
   "metadata": {},
   "outputs": [
    {
     "data": {
      "text/html": [
       "<div>\n",
       "<style scoped>\n",
       "    .dataframe tbody tr th:only-of-type {\n",
       "        vertical-align: middle;\n",
       "    }\n",
       "\n",
       "    .dataframe tbody tr th {\n",
       "        vertical-align: top;\n",
       "    }\n",
       "\n",
       "    .dataframe thead th {\n",
       "        text-align: right;\n",
       "    }\n",
       "</style>\n",
       "<table border=\"1\" class=\"dataframe\">\n",
       "  <thead>\n",
       "    <tr style=\"text-align: right;\">\n",
       "      <th></th>\n",
       "      <th>text</th>\n",
       "      <th>predict_proba</th>\n",
       "      <th>y_pred</th>\n",
       "      <th>y_true</th>\n",
       "      <th>confidence</th>\n",
       "      <th>residual</th>\n",
       "    </tr>\n",
       "  </thead>\n",
       "  <tbody>\n",
       "    <tr>\n",
       "      <th>68</th>\n",
       "      <td>###Hello everyone!, We hope you've begun defro...</td>\n",
       "      <td>0.075269</td>\n",
       "      <td>0</td>\n",
       "      <td>0</td>\n",
       "      <td>1.0</td>\n",
       "      <td>0.075269</td>\n",
       "    </tr>\n",
       "    <tr>\n",
       "      <th>279</th>\n",
       "      <td>If you are interested in participating, you wi...</td>\n",
       "      <td>0.076746</td>\n",
       "      <td>0</td>\n",
       "      <td>0</td>\n",
       "      <td>1.0</td>\n",
       "      <td>0.076746</td>\n",
       "    </tr>\n",
       "    <tr>\n",
       "      <th>278</th>\n",
       "      <td>Or, if you would like further information, ple...</td>\n",
       "      <td>0.078158</td>\n",
       "      <td>0</td>\n",
       "      <td>0</td>\n",
       "      <td>0.8</td>\n",
       "      <td>0.078158</td>\n",
       "    </tr>\n",
       "  </tbody>\n",
       "</table>\n",
       "</div>"
      ],
      "text/plain": [
       "                                                  text  predict_proba  y_pred  \\\n",
       "68   ###Hello everyone!, We hope you've begun defro...       0.075269       0   \n",
       "279  If you are interested in participating, you wi...       0.076746       0   \n",
       "278  Or, if you would like further information, ple...       0.078158       0   \n",
       "\n",
       "     y_true  confidence  residual  \n",
       "68        0         1.0  0.075269  \n",
       "279       0         1.0  0.076746  \n",
       "278       0         0.8  0.078158  "
      ]
     },
     "execution_count": 13,
     "metadata": {},
     "output_type": "execute_result"
    }
   ],
   "source": [
    "predict_class.cleaned_output_df.sort_values(by=['residual'],ascending=True).head(3)"
   ]
  },
  {
   "cell_type": "code",
   "execution_count": 14,
   "id": "f9d09266",
   "metadata": {},
   "outputs": [
    {
     "data": {
      "text/plain": [
       "\"###Hello everyone!, We hope you've begun defrosting your turkeys in preparation for a delicious meal. As the holiday season begins to ramp up, we've decided to try a new approach to handling the influx of Thanksgiving-related posts we normally receive every year. We're excited to be launching a Thanksgiving MegaThread, a single post for users to share their turkey-day anxieties and support others. Our goal in this trial is two-fold:\""
      ]
     },
     "execution_count": 14,
     "metadata": {},
     "output_type": "execute_result"
    }
   ],
   "source": [
    "predict_class.cleaned_output_df.loc[68].text"
   ]
  },
  {
   "cell_type": "code",
   "execution_count": 15,
   "id": "3aa3b535",
   "metadata": {},
   "outputs": [
    {
     "data": {
      "text/plain": [
       "'If you are interested in participating, you will be asked to complete an anonymous online survey that will take approximately 20 to 30 minutes, one time only. If you are interested in participating, please click on the following link: <url> Or, if you would like further information, please message me. For your participation, you may choose to enter a raffle to win one of eight $25.00 <url> gift cards.'"
      ]
     },
     "execution_count": 15,
     "metadata": {},
     "output_type": "execute_result"
    }
   ],
   "source": [
    "predict_class.cleaned_output_df.loc[279].text"
   ]
  }
 ],
 "metadata": {
  "kernelspec": {
   "display_name": "Python 3 (ipykernel)",
   "language": "python",
   "name": "python3"
  },
  "language_info": {
   "codemirror_mode": {
    "name": "ipython",
    "version": 3
   },
   "file_extension": ".py",
   "mimetype": "text/x-python",
   "name": "python",
   "nbconvert_exporter": "python",
   "pygments_lexer": "ipython3",
   "version": "3.8.12"
  }
 },
 "nbformat": 4,
 "nbformat_minor": 5
}
